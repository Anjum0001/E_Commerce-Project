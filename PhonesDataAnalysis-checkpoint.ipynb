{
 "cells": [
  {
   "cell_type": "code",
   "execution_count": 1,
   "id": "091470de-a70d-4e76-aabf-9c7d14676296",
   "metadata": {},
   "outputs": [],
   "source": [
    "import pandas as pd\n",
    "import matplotlib.pyplot as plt\n",
    "import seaborn as sns\n",
    "import numpy as np\n",
    "import plotly.express as px"
   ]
  },
  {
   "cell_type": "code",
   "execution_count": 2,
   "id": "4a9b1745-ddf1-4407-bcff-10b87c54f0c6",
   "metadata": {},
   "outputs": [
    {
     "data": {
      "text/html": [
       "<div>\n",
       "<style scoped>\n",
       "    .dataframe tbody tr th:only-of-type {\n",
       "        vertical-align: middle;\n",
       "    }\n",
       "\n",
       "    .dataframe tbody tr th {\n",
       "        vertical-align: top;\n",
       "    }\n",
       "\n",
       "    .dataframe thead th {\n",
       "        text-align: right;\n",
       "    }\n",
       "</style>\n",
       "<table border=\"1\" class=\"dataframe\">\n",
       "  <thead>\n",
       "    <tr style=\"text-align: right;\">\n",
       "      <th></th>\n",
       "      <th>phone_brand</th>\n",
       "      <th>phone_model</th>\n",
       "      <th>store</th>\n",
       "      <th>price_usd</th>\n",
       "      <th>storage</th>\n",
       "      <th>ram</th>\n",
       "      <th>launch_date</th>\n",
       "      <th>dimensions</th>\n",
       "      <th>weight</th>\n",
       "      <th>display_type</th>\n",
       "      <th>...</th>\n",
       "      <th>video</th>\n",
       "      <th>chipset</th>\n",
       "      <th>cpu</th>\n",
       "      <th>gpu</th>\n",
       "      <th>year</th>\n",
       "      <th>price_range</th>\n",
       "      <th>os_type</th>\n",
       "      <th>os_version</th>\n",
       "      <th>fingerprint</th>\n",
       "      <th>video_resolution</th>\n",
       "    </tr>\n",
       "  </thead>\n",
       "  <tbody>\n",
       "    <tr>\n",
       "      <th>0</th>\n",
       "      <td>apple</td>\n",
       "      <td>Apple iPhone 16 Pro</td>\n",
       "      <td>Amazon DE</td>\n",
       "      <td>1357.55</td>\n",
       "      <td>256</td>\n",
       "      <td>8</td>\n",
       "      <td>2024-09-20</td>\n",
       "      <td>149.6 x 71.5 x 8.3 mm (5.89 x 2.81 x 0.33 in)</td>\n",
       "      <td>199.0</td>\n",
       "      <td>LTPO Super Retina XDR OLED, 120Hz, HDR10, Dolb...</td>\n",
       "      <td>...</td>\n",
       "      <td>4K@24/25/30/60/100/120fps, 1080p@25/30/60/120/...</td>\n",
       "      <td>Apple A18 Pro (3 nm)</td>\n",
       "      <td>Hexa-core (2x4.05 GHz + 4x2.42 GHz)</td>\n",
       "      <td>Apple GPU (6-core graphics)</td>\n",
       "      <td>2024-01-01</td>\n",
       "      <td>medium price</td>\n",
       "      <td>iOS</td>\n",
       "      <td>18</td>\n",
       "      <td>Face</td>\n",
       "      <td>4K</td>\n",
       "    </tr>\n",
       "    <tr>\n",
       "      <th>1</th>\n",
       "      <td>apple</td>\n",
       "      <td>Apple iPhone 16 Pro</td>\n",
       "      <td>Amazon DE</td>\n",
       "      <td>1492.55</td>\n",
       "      <td>512</td>\n",
       "      <td>8</td>\n",
       "      <td>2024-09-20</td>\n",
       "      <td>149.6 x 71.5 x 8.3 mm (5.89 x 2.81 x 0.33 in)</td>\n",
       "      <td>199.0</td>\n",
       "      <td>LTPO Super Retina XDR OLED, 120Hz, HDR10, Dolb...</td>\n",
       "      <td>...</td>\n",
       "      <td>4K@24/25/30/60/100/120fps, 1080p@25/30/60/120/...</td>\n",
       "      <td>Apple A18 Pro (3 nm)</td>\n",
       "      <td>Hexa-core (2x4.05 GHz + 4x2.42 GHz)</td>\n",
       "      <td>Apple GPU (6-core graphics)</td>\n",
       "      <td>2024-01-01</td>\n",
       "      <td>high price</td>\n",
       "      <td>iOS</td>\n",
       "      <td>18</td>\n",
       "      <td>Face</td>\n",
       "      <td>4K</td>\n",
       "    </tr>\n",
       "    <tr>\n",
       "      <th>2</th>\n",
       "      <td>apple</td>\n",
       "      <td>Apple iPhone 16 Pro</td>\n",
       "      <td>Amazon DE</td>\n",
       "      <td>1705.32</td>\n",
       "      <td>1000</td>\n",
       "      <td>8</td>\n",
       "      <td>2024-09-20</td>\n",
       "      <td>149.6 x 71.5 x 8.3 mm (5.89 x 2.81 x 0.33 in)</td>\n",
       "      <td>199.0</td>\n",
       "      <td>LTPO Super Retina XDR OLED, 120Hz, HDR10, Dolb...</td>\n",
       "      <td>...</td>\n",
       "      <td>4K@24/25/30/60/100/120fps, 1080p@25/30/60/120/...</td>\n",
       "      <td>Apple A18 Pro (3 nm)</td>\n",
       "      <td>Hexa-core (2x4.05 GHz + 4x2.42 GHz)</td>\n",
       "      <td>Apple GPU (6-core graphics)</td>\n",
       "      <td>2024-01-01</td>\n",
       "      <td>high price</td>\n",
       "      <td>iOS</td>\n",
       "      <td>18</td>\n",
       "      <td>Face</td>\n",
       "      <td>4K</td>\n",
       "    </tr>\n",
       "  </tbody>\n",
       "</table>\n",
       "<p>3 rows × 28 columns</p>\n",
       "</div>"
      ],
      "text/plain": [
       "  phone_brand          phone_model      store  price_usd  storage  ram  \\\n",
       "0       apple  Apple iPhone 16 Pro  Amazon DE    1357.55      256    8   \n",
       "1       apple  Apple iPhone 16 Pro  Amazon DE    1492.55      512    8   \n",
       "2       apple  Apple iPhone 16 Pro  Amazon DE    1705.32     1000    8   \n",
       "\n",
       "  launch_date                                     dimensions  weight  \\\n",
       "0  2024-09-20  149.6 x 71.5 x 8.3 mm (5.89 x 2.81 x 0.33 in)   199.0   \n",
       "1  2024-09-20  149.6 x 71.5 x 8.3 mm (5.89 x 2.81 x 0.33 in)   199.0   \n",
       "2  2024-09-20  149.6 x 71.5 x 8.3 mm (5.89 x 2.81 x 0.33 in)   199.0   \n",
       "\n",
       "                                        display_type  ...  \\\n",
       "0  LTPO Super Retina XDR OLED, 120Hz, HDR10, Dolb...  ...   \n",
       "1  LTPO Super Retina XDR OLED, 120Hz, HDR10, Dolb...  ...   \n",
       "2  LTPO Super Retina XDR OLED, 120Hz, HDR10, Dolb...  ...   \n",
       "\n",
       "                                               video               chipset  \\\n",
       "0  4K@24/25/30/60/100/120fps, 1080p@25/30/60/120/...  Apple A18 Pro (3 nm)   \n",
       "1  4K@24/25/30/60/100/120fps, 1080p@25/30/60/120/...  Apple A18 Pro (3 nm)   \n",
       "2  4K@24/25/30/60/100/120fps, 1080p@25/30/60/120/...  Apple A18 Pro (3 nm)   \n",
       "\n",
       "                                   cpu                          gpu  \\\n",
       "0  Hexa-core (2x4.05 GHz + 4x2.42 GHz)  Apple GPU (6-core graphics)   \n",
       "1  Hexa-core (2x4.05 GHz + 4x2.42 GHz)  Apple GPU (6-core graphics)   \n",
       "2  Hexa-core (2x4.05 GHz + 4x2.42 GHz)  Apple GPU (6-core graphics)   \n",
       "\n",
       "        year   price_range os_type os_version fingerprint video_resolution  \n",
       "0 2024-01-01  medium price     iOS         18        Face               4K  \n",
       "1 2024-01-01    high price     iOS         18        Face               4K  \n",
       "2 2024-01-01    high price     iOS         18        Face               4K  \n",
       "\n",
       "[3 rows x 28 columns]"
      ]
     },
     "execution_count": 2,
     "metadata": {},
     "output_type": "execute_result"
    }
   ],
   "source": [
    "df = pd.read_csv('D:/new files/recent files/processed_data2.csv', parse_dates = ['launch_date', 'year'])\n",
    "df.head(3)"
   ]
  },
  {
   "cell_type": "code",
   "execution_count": 3,
   "id": "8caa585d-b924-4b24-987a-27ab43a57174",
   "metadata": {},
   "outputs": [
    {
     "name": "stdout",
     "output_type": "stream",
     "text": [
      "<class 'pandas.core.frame.DataFrame'>\n",
      "RangeIndex: 1708 entries, 0 to 1707\n",
      "Data columns (total 28 columns):\n",
      " #   Column              Non-Null Count  Dtype         \n",
      "---  ------              --------------  -----         \n",
      " 0   phone_brand         1708 non-null   object        \n",
      " 1   phone_model         1708 non-null   object        \n",
      " 2   store               1708 non-null   object        \n",
      " 3   price_usd           1708 non-null   float64       \n",
      " 4   storage             1708 non-null   int64         \n",
      " 5   ram                 1708 non-null   int64         \n",
      " 6   launch_date         1708 non-null   datetime64[ns]\n",
      " 7   dimensions          1708 non-null   object        \n",
      " 8   weight              1708 non-null   float64       \n",
      " 9   display_type        1708 non-null   object        \n",
      " 10  display_size        1708 non-null   float64       \n",
      " 11  display_resolution  1708 non-null   object        \n",
      " 12  os                  1708 non-null   object        \n",
      " 13  nfc                 1708 non-null   int64         \n",
      " 14  usb                 1708 non-null   object        \n",
      " 15  battery             1708 non-null   int64         \n",
      " 16  features_sensors    1708 non-null   object        \n",
      " 17  colors              1708 non-null   object        \n",
      " 18  video               1708 non-null   object        \n",
      " 19  chipset             1708 non-null   object        \n",
      " 20  cpu                 1708 non-null   object        \n",
      " 21  gpu                 1708 non-null   object        \n",
      " 22  year                1708 non-null   datetime64[ns]\n",
      " 23  price_range         1708 non-null   object        \n",
      " 24  os_type             1708 non-null   object        \n",
      " 25  os_version          1708 non-null   object        \n",
      " 26  fingerprint         1708 non-null   object        \n",
      " 27  video_resolution    1708 non-null   object        \n",
      "dtypes: datetime64[ns](2), float64(3), int64(4), object(19)\n",
      "memory usage: 373.8+ KB\n"
     ]
    }
   ],
   "source": [
    "df.info()"
   ]
  },
  {
   "cell_type": "markdown",
   "id": "5a9833ff-fc45-4051-8e8f-3ef68af4e4de",
   "metadata": {},
   "source": [
    "<!-- Data Analysis Questions -->"
   ]
  },
  {
   "cell_type": "markdown",
   "id": "825a6eef-4fa3-46e8-ad19-27785636e638",
   "metadata": {},
   "source": [
    "# Data Analysis Questions>>>"
   ]
  },
  {
   "cell_type": "markdown",
   "id": "e97ea7da-8596-490c-874b-d05c2d6d7418",
   "metadata": {},
   "source": [
    "# Write a python code to find the average price of phone from each brand."
   ]
  },
  {
   "cell_type": "code",
   "execution_count": 4,
   "id": "e5771a83-7821-4143-8710-2e0673ecf92c",
   "metadata": {},
   "outputs": [
    {
     "data": {
      "image/png": "[encoded data removed]",
      "text/plain": [
       "<Figure size 1000x400 with 1 Axes>"
      ]
     },
     "metadata": {},
     "output_type": "display_data"
    }
   ],
   "source": [
    "plt.figure(figsize = (10, 4))\n",
    "ax = df.groupby(['phone_brand'])['price_usd'].mean()\n",
    "plt.plot(ax, marker = 'o')\n",
    "plt.xticks(rotation = 45)\n",
    "plt.show()"
   ]
  },
  {
   "cell_type": "markdown",
   "id": "e95a0004-f613-48e4-8ee9-33329fd8ce6e",
   "metadata": {},
   "source": [
    "# 2 : Use pandas to filter the phones with storage greater than 128gb and display the results. "
   ]
  },
  {
   "cell_type": "code",
   "execution_count": 5,
   "id": "5cf1d7d4-c217-41a7-858b-a1a8331fe092",
   "metadata": {},
   "outputs": [
    {
     "data": {
      "text/html": [
       "<div>\n",
       "<style scoped>\n",
       "    .dataframe tbody tr th:only-of-type {\n",
       "        vertical-align: middle;\n",
       "    }\n",
       "\n",
       "    .dataframe tbody tr th {\n",
       "        vertical-align: top;\n",
       "    }\n",
       "\n",
       "    .dataframe thead th {\n",
       "        text-align: right;\n",
       "    }\n",
       "</style>\n",
       "<table border=\"1\" class=\"dataframe\">\n",
       "  <thead>\n",
       "    <tr style=\"text-align: right;\">\n",
       "      <th></th>\n",
       "      <th>phone_model</th>\n",
       "      <th>storage</th>\n",
       "    </tr>\n",
       "  </thead>\n",
       "  <tbody>\n",
       "    <tr>\n",
       "      <th>679</th>\n",
       "      <td>Google Pixel 8 Pro</td>\n",
       "      <td>1000</td>\n",
       "    </tr>\n",
       "    <tr>\n",
       "      <th>44</th>\n",
       "      <td>Apple iPhone 15 Pro Max</td>\n",
       "      <td>1000</td>\n",
       "    </tr>\n",
       "    <tr>\n",
       "      <th>863</th>\n",
       "      <td>Samsung Galaxy S10+</td>\n",
       "      <td>1000</td>\n",
       "    </tr>\n",
       "    <tr>\n",
       "      <th>618</th>\n",
       "      <td>Apple iPhone 14 Pro</td>\n",
       "      <td>1000</td>\n",
       "    </tr>\n",
       "    <tr>\n",
       "      <th>343</th>\n",
       "      <td>Samsung Galaxy Z Fold6</td>\n",
       "      <td>1000</td>\n",
       "    </tr>\n",
       "    <tr>\n",
       "      <th>...</th>\n",
       "      <td>...</td>\n",
       "      <td>...</td>\n",
       "    </tr>\n",
       "    <tr>\n",
       "      <th>1687</th>\n",
       "      <td>Xiaomi Redmi Note 13</td>\n",
       "      <td>256</td>\n",
       "    </tr>\n",
       "    <tr>\n",
       "      <th>1688</th>\n",
       "      <td>Xiaomi Poco X6 Pro</td>\n",
       "      <td>256</td>\n",
       "    </tr>\n",
       "    <tr>\n",
       "      <th>481</th>\n",
       "      <td>Xiaomi Poco F4 GT</td>\n",
       "      <td>256</td>\n",
       "    </tr>\n",
       "    <tr>\n",
       "      <th>489</th>\n",
       "      <td>Xiaomi Redmi 13</td>\n",
       "      <td>256</td>\n",
       "    </tr>\n",
       "    <tr>\n",
       "      <th>1673</th>\n",
       "      <td>Xiaomi Redmi Note 13 Pro 4G</td>\n",
       "      <td>256</td>\n",
       "    </tr>\n",
       "  </tbody>\n",
       "</table>\n",
       "<p>1001 rows × 2 columns</p>\n",
       "</div>"
      ],
      "text/plain": [
       "                      phone_model  storage\n",
       "679            Google Pixel 8 Pro     1000\n",
       "44        Apple iPhone 15 Pro Max     1000\n",
       "863           Samsung Galaxy S10+     1000\n",
       "618           Apple iPhone 14 Pro     1000\n",
       "343        Samsung Galaxy Z Fold6     1000\n",
       "...                           ...      ...\n",
       "1687         Xiaomi Redmi Note 13      256\n",
       "1688           Xiaomi Poco X6 Pro      256\n",
       "481             Xiaomi Poco F4 GT      256\n",
       "489               Xiaomi Redmi 13      256\n",
       "1673  Xiaomi Redmi Note 13 Pro 4G      256\n",
       "\n",
       "[1001 rows x 2 columns]"
      ]
     },
     "execution_count": 5,
     "metadata": {},
     "output_type": "execute_result"
    }
   ],
   "source": [
    "df[df['storage'] > 128][['phone_model', 'storage']].sort_values(by = 'storage', ascending = False)"
   ]
  },
  {
   "cell_type": "markdown",
   "id": "b67f5b96-5dbd-434f-84d0-e4cd23c09326",
   "metadata": {},
   "source": [
    "# 3 : What is the maximum and minimum price of phones in the 'flagship' price range ?"
   ]
  },
  {
   "cell_type": "code",
   "execution_count": 6,
   "id": "328762bd-bc22-4b59-86e7-89dd3165b207",
   "metadata": {},
   "outputs": [
    {
     "data": {
      "text/plain": [
       "np.float64(52.63)"
      ]
     },
     "execution_count": 6,
     "metadata": {},
     "output_type": "execute_result"
    }
   ],
   "source": [
    "min_price = df['price_usd'].min()\n",
    "min_price"
   ]
  },
  {
   "cell_type": "code",
   "execution_count": 7,
   "id": "8839196a-de72-4d90-b460-06185487a668",
   "metadata": {},
   "outputs": [
    {
     "data": {
      "text/plain": [
       "np.float64(2353.82)"
      ]
     },
     "execution_count": 7,
     "metadata": {},
     "output_type": "execute_result"
    }
   ],
   "source": [
    "max_price = df['price_usd'].max()\n",
    "max_price"
   ]
  },
  {
   "cell_type": "markdown",
   "id": "ce2bdae3-e5e8-44ff-ae35-c189791f35ce",
   "metadata": {},
   "source": [
    "# 4: Write a python function to calculate the total number of phones with NFC enabled."
   ]
  },
  {
   "cell_type": "code",
   "execution_count": 8,
   "id": "467e0bbe-4abb-4898-8dfe-0a76393ae5bd",
   "metadata": {},
   "outputs": [
    {
     "data": {
      "text/plain": [
       "np.int64(1567)"
      ]
     },
     "execution_count": 8,
     "metadata": {},
     "output_type": "execute_result"
    }
   ],
   "source": [
    "df[df['nfc'] == 1].count()['phone_model']"
   ]
  },
  {
   "cell_type": "markdown",
   "id": "26224721-9d28-45e7-a79c-8ad255078e0f",
   "metadata": {},
   "source": [
    "# 5 : use matplotlib to create a bar chart showing the numbers of phones from each brand."
   ]
  },
  {
   "cell_type": "code",
   "execution_count": 9,
   "id": "23441ce7-4a2c-4377-bf9c-8b17a4ca2f2e",
   "metadata": {},
   "outputs": [
    {
     "data": {
      "image/png": "[encoded data removed]",
      "text/plain": [
       "<Figure size 700x400 with 1 Axes>"
      ]
     },
     "metadata": {},
     "output_type": "display_data"
    }
   ],
   "source": [
    "plt.figure(figsize = (7 , 4))\n",
    "df['phone_brand'].value_counts().plot(kind = 'bar')\n",
    "plt.title('Count of Phone_brands')\n",
    "plt.show()"
   ]
  },
  {
   "cell_type": "markdown",
   "id": "69e29c39-5e85-4f50-93be-512ed3f217b6",
   "metadata": {},
   "source": [
    "# Data Manipulation Questions"
   ]
  },
  {
   "cell_type": "markdown",
   "id": "8c54eb54-ae7a-4d37-aa54-80a52b5b71b8",
   "metadata": {},
   "source": [
    "# 1 : Write a python code to add a new price category based on the price range column where budget is less than\n",
    "# 200$ mid range is between 200 - 500$ and flagship is greater than 500$."
   ]
  },
  {
   "cell_type": "code",
   "execution_count": 10,
   "id": "d02ec674-dbd3-4019-ad8a-8608b0f3435b",
   "metadata": {},
   "outputs": [
    {
     "data": {
      "text/html": [
       "<div>\n",
       "<style scoped>\n",
       "    .dataframe tbody tr th:only-of-type {\n",
       "        vertical-align: middle;\n",
       "    }\n",
       "\n",
       "    .dataframe tbody tr th {\n",
       "        vertical-align: top;\n",
       "    }\n",
       "\n",
       "    .dataframe thead th {\n",
       "        text-align: right;\n",
       "    }\n",
       "</style>\n",
       "<table border=\"1\" class=\"dataframe\">\n",
       "  <thead>\n",
       "    <tr style=\"text-align: right;\">\n",
       "      <th></th>\n",
       "      <th>phone_brand</th>\n",
       "      <th>phone_model</th>\n",
       "      <th>store</th>\n",
       "      <th>price_usd</th>\n",
       "      <th>storage</th>\n",
       "      <th>ram</th>\n",
       "      <th>launch_date</th>\n",
       "      <th>dimensions</th>\n",
       "      <th>weight</th>\n",
       "      <th>display_type</th>\n",
       "      <th>...</th>\n",
       "      <th>chipset</th>\n",
       "      <th>cpu</th>\n",
       "      <th>gpu</th>\n",
       "      <th>year</th>\n",
       "      <th>price_range</th>\n",
       "      <th>os_type</th>\n",
       "      <th>os_version</th>\n",
       "      <th>fingerprint</th>\n",
       "      <th>video_resolution</th>\n",
       "      <th>price category</th>\n",
       "    </tr>\n",
       "  </thead>\n",
       "  <tbody>\n",
       "    <tr>\n",
       "      <th>0</th>\n",
       "      <td>apple</td>\n",
       "      <td>Apple iPhone 16 Pro</td>\n",
       "      <td>Amazon DE</td>\n",
       "      <td>1357.55</td>\n",
       "      <td>256</td>\n",
       "      <td>8</td>\n",
       "      <td>2024-09-20</td>\n",
       "      <td>149.6 x 71.5 x 8.3 mm (5.89 x 2.81 x 0.33 in)</td>\n",
       "      <td>199.0</td>\n",
       "      <td>LTPO Super Retina XDR OLED, 120Hz, HDR10, Dolb...</td>\n",
       "      <td>...</td>\n",
       "      <td>Apple A18 Pro (3 nm)</td>\n",
       "      <td>Hexa-core (2x4.05 GHz + 4x2.42 GHz)</td>\n",
       "      <td>Apple GPU (6-core graphics)</td>\n",
       "      <td>2024-01-01</td>\n",
       "      <td>medium price</td>\n",
       "      <td>iOS</td>\n",
       "      <td>18</td>\n",
       "      <td>Face</td>\n",
       "      <td>4K</td>\n",
       "      <td>&gt;500</td>\n",
       "    </tr>\n",
       "    <tr>\n",
       "      <th>1</th>\n",
       "      <td>apple</td>\n",
       "      <td>Apple iPhone 16 Pro</td>\n",
       "      <td>Amazon DE</td>\n",
       "      <td>1492.55</td>\n",
       "      <td>512</td>\n",
       "      <td>8</td>\n",
       "      <td>2024-09-20</td>\n",
       "      <td>149.6 x 71.5 x 8.3 mm (5.89 x 2.81 x 0.33 in)</td>\n",
       "      <td>199.0</td>\n",
       "      <td>LTPO Super Retina XDR OLED, 120Hz, HDR10, Dolb...</td>\n",
       "      <td>...</td>\n",
       "      <td>Apple A18 Pro (3 nm)</td>\n",
       "      <td>Hexa-core (2x4.05 GHz + 4x2.42 GHz)</td>\n",
       "      <td>Apple GPU (6-core graphics)</td>\n",
       "      <td>2024-01-01</td>\n",
       "      <td>high price</td>\n",
       "      <td>iOS</td>\n",
       "      <td>18</td>\n",
       "      <td>Face</td>\n",
       "      <td>4K</td>\n",
       "      <td>&gt;500</td>\n",
       "    </tr>\n",
       "  </tbody>\n",
       "</table>\n",
       "<p>2 rows × 29 columns</p>\n",
       "</div>"
      ],
      "text/plain": [
       "  phone_brand          phone_model      store  price_usd  storage  ram  \\\n",
       "0       apple  Apple iPhone 16 Pro  Amazon DE    1357.55      256    8   \n",
       "1       apple  Apple iPhone 16 Pro  Amazon DE    1492.55      512    8   \n",
       "\n",
       "  launch_date                                     dimensions  weight  \\\n",
       "0  2024-09-20  149.6 x 71.5 x 8.3 mm (5.89 x 2.81 x 0.33 in)   199.0   \n",
       "1  2024-09-20  149.6 x 71.5 x 8.3 mm (5.89 x 2.81 x 0.33 in)   199.0   \n",
       "\n",
       "                                        display_type  ...  \\\n",
       "0  LTPO Super Retina XDR OLED, 120Hz, HDR10, Dolb...  ...   \n",
       "1  LTPO Super Retina XDR OLED, 120Hz, HDR10, Dolb...  ...   \n",
       "\n",
       "                chipset                                  cpu  \\\n",
       "0  Apple A18 Pro (3 nm)  Hexa-core (2x4.05 GHz + 4x2.42 GHz)   \n",
       "1  Apple A18 Pro (3 nm)  Hexa-core (2x4.05 GHz + 4x2.42 GHz)   \n",
       "\n",
       "                           gpu       year   price_range  os_type os_version  \\\n",
       "0  Apple GPU (6-core graphics) 2024-01-01  medium price      iOS         18   \n",
       "1  Apple GPU (6-core graphics) 2024-01-01    high price      iOS         18   \n",
       "\n",
       "  fingerprint video_resolution price category  \n",
       "0        Face               4K           >500  \n",
       "1        Face               4K           >500  \n",
       "\n",
       "[2 rows x 29 columns]"
      ]
     },
     "execution_count": 10,
     "metadata": {},
     "output_type": "execute_result"
    }
   ],
   "source": [
    "df['price category'] = pd.cut(df['price_usd'] , bins = [0, 200, 500, 2353], labels = ['200', '200-500', '>500'] )\n",
    "df.head(2)"
   ]
  },
  {
   "cell_type": "code",
   "execution_count": null,
   "id": "d2181549-14f7-43ee-96fc-af214ac436ab",
   "metadata": {},
   "outputs": [],
   "source": []
  },
  {
   "cell_type": "markdown",
   "id": "6ea809e7-da5a-4628-935a-9a6c54244439",
   "metadata": {},
   "source": [
    "# 2 : Write a python code to create a new dataframe with only the 'phone_model', 'storage'and 'ram' columns."
   ]
  },
  {
   "cell_type": "code",
   "execution_count": 11,
   "id": "bd2d4871-737d-4768-827f-c52b4c1163f9",
   "metadata": {},
   "outputs": [
    {
     "data": {
      "text/html": [
       "<div>\n",
       "<style scoped>\n",
       "    .dataframe tbody tr th:only-of-type {\n",
       "        vertical-align: middle;\n",
       "    }\n",
       "\n",
       "    .dataframe tbody tr th {\n",
       "        vertical-align: top;\n",
       "    }\n",
       "\n",
       "    .dataframe thead th {\n",
       "        text-align: right;\n",
       "    }\n",
       "</style>\n",
       "<table border=\"1\" class=\"dataframe\">\n",
       "  <thead>\n",
       "    <tr style=\"text-align: right;\">\n",
       "      <th></th>\n",
       "      <th>phone_model</th>\n",
       "      <th>storage</th>\n",
       "      <th>ram</th>\n",
       "    </tr>\n",
       "  </thead>\n",
       "  <tbody>\n",
       "    <tr>\n",
       "      <th>0</th>\n",
       "      <td>Apple iPhone 16 Pro</td>\n",
       "      <td>256</td>\n",
       "      <td>8</td>\n",
       "    </tr>\n",
       "    <tr>\n",
       "      <th>1</th>\n",
       "      <td>Apple iPhone 16 Pro</td>\n",
       "      <td>512</td>\n",
       "      <td>8</td>\n",
       "    </tr>\n",
       "    <tr>\n",
       "      <th>2</th>\n",
       "      <td>Apple iPhone 16 Pro</td>\n",
       "      <td>1000</td>\n",
       "      <td>8</td>\n",
       "    </tr>\n",
       "    <tr>\n",
       "      <th>3</th>\n",
       "      <td>Apple iPhone 16 Pro Max</td>\n",
       "      <td>512</td>\n",
       "      <td>8</td>\n",
       "    </tr>\n",
       "    <tr>\n",
       "      <th>4</th>\n",
       "      <td>Apple iPhone 12 mini</td>\n",
       "      <td>128</td>\n",
       "      <td>4</td>\n",
       "    </tr>\n",
       "    <tr>\n",
       "      <th>...</th>\n",
       "      <td>...</td>\n",
       "      <td>...</td>\n",
       "      <td>...</td>\n",
       "    </tr>\n",
       "    <tr>\n",
       "      <th>1703</th>\n",
       "      <td>Xiaomi Redmi Note 10S</td>\n",
       "      <td>128</td>\n",
       "      <td>4</td>\n",
       "    </tr>\n",
       "    <tr>\n",
       "      <th>1704</th>\n",
       "      <td>Xiaomi Redmi Note 10S</td>\n",
       "      <td>128</td>\n",
       "      <td>6</td>\n",
       "    </tr>\n",
       "    <tr>\n",
       "      <th>1705</th>\n",
       "      <td>Xiaomi Redmi Note 11 Pro</td>\n",
       "      <td>128</td>\n",
       "      <td>6</td>\n",
       "    </tr>\n",
       "    <tr>\n",
       "      <th>1706</th>\n",
       "      <td>Xiaomi 11 Lite 5G NE</td>\n",
       "      <td>128</td>\n",
       "      <td>8</td>\n",
       "    </tr>\n",
       "    <tr>\n",
       "      <th>1707</th>\n",
       "      <td>ZTE nubia Red Magic 6</td>\n",
       "      <td>128</td>\n",
       "      <td>12</td>\n",
       "    </tr>\n",
       "  </tbody>\n",
       "</table>\n",
       "<p>1708 rows × 3 columns</p>\n",
       "</div>"
      ],
      "text/plain": [
       "                   phone_model  storage  ram\n",
       "0          Apple iPhone 16 Pro      256    8\n",
       "1          Apple iPhone 16 Pro      512    8\n",
       "2          Apple iPhone 16 Pro     1000    8\n",
       "3      Apple iPhone 16 Pro Max      512    8\n",
       "4         Apple iPhone 12 mini      128    4\n",
       "...                        ...      ...  ...\n",
       "1703     Xiaomi Redmi Note 10S      128    4\n",
       "1704     Xiaomi Redmi Note 10S      128    6\n",
       "1705  Xiaomi Redmi Note 11 Pro      128    6\n",
       "1706      Xiaomi 11 Lite 5G NE      128    8\n",
       "1707     ZTE nubia Red Magic 6      128   12\n",
       "\n",
       "[1708 rows x 3 columns]"
      ]
     },
     "execution_count": 11,
     "metadata": {},
     "output_type": "execute_result"
    }
   ],
   "source": [
    "filter_Data = df[['phone_model', 'storage', 'ram']]\n",
    "filter_Data "
   ]
  },
  {
   "cell_type": "code",
   "execution_count": 15,
   "id": "a9854e01-60cf-4a5f-83bb-2f574cd4f065",
   "metadata": {},
   "outputs": [
    {
     "data": {
      "text/html": [
       "<div>\n",
       "<style scoped>\n",
       "    .dataframe tbody tr th:only-of-type {\n",
       "        vertical-align: middle;\n",
       "    }\n",
       "\n",
       "    .dataframe tbody tr th {\n",
       "        vertical-align: top;\n",
       "    }\n",
       "\n",
       "    .dataframe thead th {\n",
       "        text-align: right;\n",
       "    }\n",
       "</style>\n",
       "<table border=\"1\" class=\"dataframe\">\n",
       "  <thead>\n",
       "    <tr style=\"text-align: right;\">\n",
       "      <th></th>\n",
       "      <th>price_usd</th>\n",
       "      <th>storage</th>\n",
       "      <th>ram</th>\n",
       "      <th>launch_date</th>\n",
       "      <th>weight</th>\n",
       "      <th>display_size</th>\n",
       "      <th>nfc</th>\n",
       "      <th>battery</th>\n",
       "      <th>year</th>\n",
       "    </tr>\n",
       "  </thead>\n",
       "  <tbody>\n",
       "    <tr>\n",
       "      <th>count</th>\n",
       "      <td>1708.000000</td>\n",
       "      <td>1708.000000</td>\n",
       "      <td>1708.000000</td>\n",
       "      <td>1708</td>\n",
       "      <td>1708.000000</td>\n",
       "      <td>1708.000000</td>\n",
       "      <td>1708.000000</td>\n",
       "      <td>1708.000000</td>\n",
       "      <td>1708</td>\n",
       "    </tr>\n",
       "    <tr>\n",
       "      <th>mean</th>\n",
       "      <td>419.983156</td>\n",
       "      <td>271.798595</td>\n",
       "      <td>7.981265</td>\n",
       "      <td>2022-07-05 23:47:21.217798912</td>\n",
       "      <td>195.203769</td>\n",
       "      <td>6.564754</td>\n",
       "      <td>0.917447</td>\n",
       "      <td>4657.326698</td>\n",
       "      <td>2022-01-20 12:32:52.833723648</td>\n",
       "    </tr>\n",
       "    <tr>\n",
       "      <th>min</th>\n",
       "      <td>52.630000</td>\n",
       "      <td>32.000000</td>\n",
       "      <td>2.000000</td>\n",
       "      <td>2017-11-03 00:00:00</td>\n",
       "      <td>135.000000</td>\n",
       "      <td>4.700000</td>\n",
       "      <td>0.000000</td>\n",
       "      <td>1821.000000</td>\n",
       "      <td>2017-01-01 00:00:00</td>\n",
       "    </tr>\n",
       "    <tr>\n",
       "      <th>25%</th>\n",
       "      <td>167.562500</td>\n",
       "      <td>128.000000</td>\n",
       "      <td>6.000000</td>\n",
       "      <td>2021-08-18 00:00:00</td>\n",
       "      <td>183.500000</td>\n",
       "      <td>6.500000</td>\n",
       "      <td>1.000000</td>\n",
       "      <td>4500.000000</td>\n",
       "      <td>2021-01-01 00:00:00</td>\n",
       "    </tr>\n",
       "    <tr>\n",
       "      <th>50%</th>\n",
       "      <td>278.835000</td>\n",
       "      <td>256.000000</td>\n",
       "      <td>8.000000</td>\n",
       "      <td>2022-09-02 00:00:00</td>\n",
       "      <td>193.500000</td>\n",
       "      <td>6.600000</td>\n",
       "      <td>1.000000</td>\n",
       "      <td>5000.000000</td>\n",
       "      <td>2022-01-01 00:00:00</td>\n",
       "    </tr>\n",
       "    <tr>\n",
       "      <th>75%</th>\n",
       "      <td>550.327500</td>\n",
       "      <td>256.000000</td>\n",
       "      <td>12.000000</td>\n",
       "      <td>2023-09-21 00:00:00</td>\n",
       "      <td>204.000000</td>\n",
       "      <td>6.700000</td>\n",
       "      <td>1.000000</td>\n",
       "      <td>5000.000000</td>\n",
       "      <td>2023-01-01 00:00:00</td>\n",
       "    </tr>\n",
       "    <tr>\n",
       "      <th>max</th>\n",
       "      <td>2353.820000</td>\n",
       "      <td>1000.000000</td>\n",
       "      <td>24.000000</td>\n",
       "      <td>2024-10-03 00:00:00</td>\n",
       "      <td>627.000000</td>\n",
       "      <td>12.400000</td>\n",
       "      <td>1.000000</td>\n",
       "      <td>10200.000000</td>\n",
       "      <td>2024-01-01 00:00:00</td>\n",
       "    </tr>\n",
       "    <tr>\n",
       "      <th>std</th>\n",
       "      <td>361.680703</td>\n",
       "      <td>207.513099</td>\n",
       "      <td>3.425618</td>\n",
       "      <td>NaN</td>\n",
       "      <td>24.738661</td>\n",
       "      <td>0.383238</td>\n",
       "      <td>0.275286</td>\n",
       "      <td>694.689807</td>\n",
       "      <td>NaN</td>\n",
       "    </tr>\n",
       "  </tbody>\n",
       "</table>\n",
       "</div>"
      ],
      "text/plain": [
       "         price_usd      storage          ram                    launch_date  \\\n",
       "count  1708.000000  1708.000000  1708.000000                           1708   \n",
       "mean    419.983156   271.798595     7.981265  2022-07-05 23:47:21.217798912   \n",
       "min      52.630000    32.000000     2.000000            2017-11-03 00:00:00   \n",
       "25%     167.562500   128.000000     6.000000            2021-08-18 00:00:00   \n",
       "50%     278.835000   256.000000     8.000000            2022-09-02 00:00:00   \n",
       "75%     550.327500   256.000000    12.000000            2023-09-21 00:00:00   \n",
       "max    2353.820000  1000.000000    24.000000            2024-10-03 00:00:00   \n",
       "std     361.680703   207.513099     3.425618                            NaN   \n",
       "\n",
       "            weight  display_size          nfc       battery  \\\n",
       "count  1708.000000   1708.000000  1708.000000   1708.000000   \n",
       "mean    195.203769      6.564754     0.917447   4657.326698   \n",
       "min     135.000000      4.700000     0.000000   1821.000000   \n",
       "25%     183.500000      6.500000     1.000000   4500.000000   \n",
       "50%     193.500000      6.600000     1.000000   5000.000000   \n",
       "75%     204.000000      6.700000     1.000000   5000.000000   \n",
       "max     627.000000     12.400000     1.000000  10200.000000   \n",
       "std      24.738661      0.383238     0.275286    694.689807   \n",
       "\n",
       "                                year  \n",
       "count                           1708  \n",
       "mean   2022-01-20 12:32:52.833723648  \n",
       "min              2017-01-01 00:00:00  \n",
       "25%              2021-01-01 00:00:00  \n",
       "50%              2022-01-01 00:00:00  \n",
       "75%              2023-01-01 00:00:00  \n",
       "max              2024-01-01 00:00:00  \n",
       "std                              NaN  "
      ]
     },
     "execution_count": 15,
     "metadata": {},
     "output_type": "execute_result"
    }
   ],
   "source": [
    "df.describe()"
   ]
  },
  {
   "cell_type": "markdown",
   "id": "d4b45d76-617f-47c8-be91-8ce7e0792e85",
   "metadata": {},
   "source": [
    "# Advance Level Questions"
   ]
  },
  {
   "cell_type": "markdown",
   "id": "c1e642e0-9d72-46df-8a14-cc8c657d6539",
   "metadata": {},
   "source": [
    "# 1 : Write a python function that returns the top 3 phonebrand with the highest average storage capability . The function should also calculate the standard deviation of storage capacity for each brand."
   ]
  },
  {
   "cell_type": "code",
   "execution_count": 16,
   "id": "a9091597-dfcd-4c74-a0f6-f69cc994d17e",
   "metadata": {},
   "outputs": [
    {
     "data": {
      "text/html": [
       "<div>\n",
       "<style scoped>\n",
       "    .dataframe tbody tr th:only-of-type {\n",
       "        vertical-align: middle;\n",
       "    }\n",
       "\n",
       "    .dataframe tbody tr th {\n",
       "        vertical-align: top;\n",
       "    }\n",
       "\n",
       "    .dataframe thead th {\n",
       "        text-align: right;\n",
       "    }\n",
       "</style>\n",
       "<table border=\"1\" class=\"dataframe\">\n",
       "  <thead>\n",
       "    <tr style=\"text-align: right;\">\n",
       "      <th></th>\n",
       "      <th>std</th>\n",
       "      <th>mean</th>\n",
       "    </tr>\n",
       "    <tr>\n",
       "      <th>phone_brand</th>\n",
       "      <th></th>\n",
       "      <th></th>\n",
       "    </tr>\n",
       "  </thead>\n",
       "  <tbody>\n",
       "    <tr>\n",
       "      <th>cubot</th>\n",
       "      <td>NaN</td>\n",
       "      <td>512.000000</td>\n",
       "    </tr>\n",
       "    <tr>\n",
       "      <th>zte</th>\n",
       "      <td>281.130319</td>\n",
       "      <td>439.384615</td>\n",
       "    </tr>\n",
       "    <tr>\n",
       "      <th>apple</th>\n",
       "      <td>250.522912</td>\n",
       "      <td>423.381443</td>\n",
       "    </tr>\n",
       "  </tbody>\n",
       "</table>\n",
       "</div>"
      ],
      "text/plain": [
       "                    std        mean\n",
       "phone_brand                        \n",
       "cubot               NaN  512.000000\n",
       "zte          281.130319  439.384615\n",
       "apple        250.522912  423.381443"
      ]
     },
     "execution_count": 16,
     "metadata": {},
     "output_type": "execute_result"
    }
   ],
   "source": [
    "top_3 = df.groupby(['phone_brand'])['storage'].agg({ 'mean', 'std'})\n",
    "top_3 = top_3.sort_values('mean', ascending = False)[:3]\n",
    "top_3\n",
    "\n"
   ]
  },
  {
   "cell_type": "markdown",
   "id": "765c9332-1670-483d-a4ce-a9d8c1300eb2",
   "metadata": {},
   "source": [
    "# 2 : Create a python script that generates a scatter plot showing the relationship b/w phone price and storage capacity."
   ]
  },
  {
   "cell_type": "code",
   "execution_count": 22,
   "id": "c9a3880b-d5f9-4da6-855f-64ec06cf3533",
   "metadata": {},
   "outputs": [
    {
     "data": {
      "application/vnd.plotly.v1+json": {
       "config": {
        "plotlyServerURL": "https://plot.ly"
       },
       "data": [
        {
         "hovertemplate": "phone_brand=apple<br>price_usd=%{x}<br>storage=%{y}<extra></extra>",
         "legendgroup": "apple",
         "marker": {
          "color": "#636efa",
          "symbol": "circle"
         },
         "mode": "markers",
         "name": "apple",
         "showlegend": true,
         "type": "scattergl",
         "x": [
          1357.55,
          1492.55,
          1705.32,
          1564.92,
          247.32,
          319.68,
          427.14,
          467.64,
          213.85,
          214.92,
          268.57,
          304.87,
          524.79,
          626.4,
          230.96,
          200.88,
          291.6,
          264.6,
          305.63,
          303.48,
          377.32,
          390.63,
          422.27,
          157.68,
          190.08,
          325.08,
          375.84,
          457.92,
          481.68,
          640,
          741.67,
          681.04,
          802.97,
          767.04,
          861.69,
          1018.74,
          840.34,
          876.94,
          995.06,
          243,
          185.76,
          743.57,
          828.35,
          1079.75,
          1261.82,
          814.03,
          995.76,
          967.24,
          1059.91,
          1204.62,
          1024.92,
          1165.32,
          1186.92,
          1327.32,
          707.4,
          732.84,
          814.11,
          466.45,
          538.92,
          609.99,
          640.44,
          749.1,
          999.99,
          1099.99,
          1299.99,
          1199.99,
          1399.99,
          208,
          241.64,
          342,
          395,
          160,
          187.99,
          219.28,
          279.49,
          410.33,
          500,
          162.9,
          172.65,
          193,
          208,
          239,
          259.9,
          249,
          285,
          341.96,
          99.64,
          130.72,
          249.99,
          291.75,
          357.55,
          389.99,
          447.5,
          530,
          427.99,
          569.95,
          603.41,
          679.05,
          698.06,
          686.07,
          668.95,
          787.5,
          999.99,
          126.49,
          233.33,
          525.98,
          716.99,
          829.99,
          929.99,
          788.95,
          1056.99,
          1199.99,
          1399.99,
          629.99,
          726.75,
          929.99,
          1029.99,
          787.49,
          827.5,
          989.99,
          999.99,
          1099.99,
          1299.99,
          829.99,
          929.99,
          929.99,
          1029.99,
          538.95,
          590.24,
          624.4,
          318.8,
          433.45,
          495.98,
          521.15,
          662.54,
          1424.52,
          1683.76,
          252.11,
          293.59,
          382.38,
          436.81,
          185.32,
          174.99,
          199.61,
          256.14,
          492.52,
          546.85,
          190.87,
          269.6,
          249.18,
          246.28,
          269.99,
          319.64,
          329.23,
          362.87,
          121.84,
          151.33,
          316.27,
          343.49,
          419.76,
          468.89,
          582.75,
          614.39,
          505.52,
          657.82,
          712.17,
          802.35,
          890.71,
          810.09,
          881.07,
          998.07,
          230.72,
          338.31,
          740.78,
          843.18,
          1123.81,
          1204.17,
          824.33,
          842.52,
          931.97,
          1022.05,
          1246.85,
          1035.66,
          1165.28,
          1165.28,
          1294.9,
          640.32,
          659.12,
          803.58,
          451.08,
          484.78,
          550.17,
          602.41,
          681.08
         ],
         "xaxis": "x",
         "y": [
          256,
          512,
          1000,
          512,
          128,
          256,
          256,
          512,
          128,
          256,
          256,
          512,
          256,
          512,
          256,
          256,
          512,
          128,
          256,
          256,
          512,
          256,
          512,
          128,
          256,
          128,
          256,
          256,
          512,
          256,
          512,
          256,
          512,
          256,
          512,
          1000,
          256,
          512,
          1000,
          128,
          256,
          256,
          512,
          512,
          1000,
          256,
          512,
          256,
          512,
          1000,
          256,
          512,
          256,
          512,
          256,
          512,
          1000,
          256,
          512,
          256,
          512,
          1000,
          256,
          512,
          1000,
          512,
          1000,
          128,
          256,
          256,
          512,
          128,
          256,
          256,
          512,
          256,
          512,
          256,
          256,
          512,
          128,
          256,
          256,
          512,
          256,
          512,
          128,
          256,
          128,
          256,
          256,
          512,
          256,
          512,
          256,
          512,
          256,
          512,
          1000,
          256,
          512,
          1000,
          256,
          128,
          256,
          256,
          512,
          256,
          512,
          512,
          1000,
          512,
          1000,
          256,
          512,
          256,
          512,
          256,
          512,
          1000,
          256,
          512,
          1000,
          256,
          512,
          256,
          512,
          256,
          512,
          1000,
          256,
          512,
          256,
          512,
          1000,
          256,
          512,
          128,
          256,
          256,
          512,
          128,
          256,
          256,
          512,
          256,
          512,
          256,
          512,
          128,
          256,
          256,
          512,
          256,
          512,
          128,
          256,
          128,
          256,
          256,
          512,
          256,
          512,
          256,
          512,
          256,
          512,
          1000,
          256,
          512,
          1000,
          128,
          256,
          256,
          512,
          512,
          1000,
          256,
          512,
          256,
          512,
          1000,
          256,
          512,
          256,
          512,
          256,
          512,
          1000,
          256,
          512,
          256,
          512,
          1000
         ],
         "yaxis": "y"
        },
        {
         "hovertemplate": "phone_brand=asus<br>price_usd=%{x}<br>storage=%{y}<extra></extra>",
         "legendgroup": "asus",
         "marker": {
          "color": "#EF553B",
          "symbol": "circle"
         },
         "mode": "markers",
         "name": "asus",
         "showlegend": true,
         "type": "scattergl",
         "x": [
          499.71,
          405.14,
          445,
          606.11,
          723.6,
          603.61,
          632.87,
          686.87,
          762.47,
          1295.99,
          808.92,
          888,
          658,
          659,
          814,
          799.99,
          1054,
          699.99,
          697,
          1165.28,
          716.07,
          1165.28,
          822.85,
          1102.03,
          857.79,
          842.52,
          933.25,
          1189.78,
          891.14,
          1060.28,
          1096.59
         ],
         "xaxis": "x",
         "y": [
          128,
          256,
          256,
          256,
          256,
          512,
          256,
          256,
          512,
          1000,
          512,
          512,
          256,
          256,
          512,
          256,
          1000,
          512,
          128,
          128,
          128,
          256,
          256,
          512,
          256,
          256,
          512,
          256,
          1000,
          512,
          128
         ],
         "yaxis": "y"
        },
        {
         "hovertemplate": "phone_brand=blackview<br>price_usd=%{x}<br>storage=%{y}<extra></extra>",
         "legendgroup": "blackview",
         "marker": {
          "color": "#00cc96",
          "symbol": "circle"
         },
         "mode": "markers",
         "name": "blackview",
         "showlegend": true,
         "type": "scattergl",
         "x": [
          246.33,
          276.61,
          146.43
         ],
         "xaxis": "x",
         "y": [
          256,
          256,
          256
         ],
         "yaxis": "y"
        },
        {
         "hovertemplate": "phone_brand=google<br>price_usd=%{x}<br>storage=%{y}<extra></extra>",
         "legendgroup": "google",
         "marker": {
          "color": "#ab63fa",
          "symbol": "circle"
         },
         "mode": "markers",
         "name": "google",
         "showlegend": true,
         "type": "scattergl",
         "x": [
          543.97,
          198.5,
          162.42,
          209.87,
          2042.27,
          803.27,
          1098.93,
          1272.39,
          1435.32,
          1037.84,
          1162.06,
          1499.98,
          648.24,
          756.43,
          852.29,
          456.56,
          1273.56,
          298.37,
          369.88,
          398.6,
          456.78,
          322.92,
          374.94,
          121.99,
          599.99,
          107.99,
          199.08,
          1799,
          754.99,
          1082.97,
          1059.89,
          1199,
          1319,
          459.95,
          494.95,
          609.99,
          999,
          1059,
          1179,
          332,
          617.99,
          204.95,
          269.99,
          298.31,
          360,
          899,
          999,
          245.5,
          452.37,
          197.66,
          125.73,
          207.38,
          2267.05,
          1035.66,
          1294.9,
          1424.52,
          1580.07,
          1424.52,
          1540.72,
          1709.69,
          580.7,
          750.5,
          395.34,
          946.21,
          219.06,
          335.7,
          358.83,
          421.2,
          283.83
         ],
         "xaxis": "x",
         "y": [
          256,
          128,
          128,
          256,
          512,
          256,
          256,
          512,
          1000,
          256,
          512,
          1000,
          256,
          512,
          1000,
          256,
          512,
          256,
          512,
          256,
          512,
          256,
          256,
          128,
          128,
          128,
          256,
          512,
          256,
          256,
          256,
          512,
          1000,
          256,
          512,
          1000,
          256,
          512,
          1000,
          256,
          512,
          256,
          512,
          256,
          512,
          256,
          512,
          256,
          256,
          128,
          128,
          256,
          512,
          256,
          256,
          512,
          1000,
          256,
          512,
          1000,
          256,
          512,
          256,
          512,
          256,
          512,
          256,
          512,
          256
         ],
         "yaxis": "y"
        },
        {
         "hovertemplate": "phone_brand=honor<br>price_usd=%{x}<br>storage=%{y}<extra></extra>",
         "legendgroup": "honor",
         "marker": {
          "color": "#FFA15A",
          "symbol": "circle"
         },
         "mode": "markers",
         "name": "honor",
         "showlegend": true,
         "type": "scattergl",
         "x": [
          227.86,
          230.39,
          192.23,
          248.39,
          156.14,
          647.99,
          172.8,
          315.89,
          151.09,
          261.28,
          210.03,
          860.12,
          572.29,
          517.32,
          669.59,
          2115.72,
          1258.52,
          185.9,
          620,
          329.99,
          370,
          999,
          999,
          405,
          490,
          189.99,
          289.99,
          349,
          845,
          1148.5,
          369.5,
          355.56,
          302.31,
          127.66,
          777.07,
          335.72,
          181.46,
          167.21,
          572.6,
          2189.28,
          1292.78,
          440.7,
          759,
          175,
          177.9,
          179.1,
          1459
         ],
         "xaxis": "x",
         "y": [
          256,
          256,
          128,
          256,
          128,
          256,
          128,
          512,
          128,
          256,
          256,
          512,
          256,
          512,
          512,
          512,
          512,
          128,
          256,
          256,
          128,
          256,
          512,
          128,
          512,
          128,
          256,
          128,
          512,
          512,
          128,
          256,
          256,
          128,
          256,
          512,
          128,
          256,
          256,
          512,
          512,
          512,
          256,
          128,
          256,
          256,
          512
         ],
         "yaxis": "y"
        },
        {
         "hovertemplate": "phone_brand=huawei<br>price_usd=%{x}<br>storage=%{y}<extra></extra>",
         "legendgroup": "huawei",
         "marker": {
          "color": "#19d3f3",
          "symbol": "circle"
         },
         "mode": "markers",
         "name": "huawei",
         "showlegend": true,
         "type": "scattergl",
         "x": [
          805.67,
          239.84,
          1143.72,
          186.27,
          123.67,
          161.22,
          662.84,
          205.19,
          434.15,
          215.99,
          2353.82,
          215.95,
          394.19,
          1381.58,
          991.49,
          270,
          1290,
          699.99,
          179.99,
          187.29,
          609.21,
          255.56,
          745.32,
          581.99,
          1365.27,
          139.52,
          486.39,
          806.99,
          310.4,
          1440,
          1300,
          899.99
         ],
         "xaxis": "x",
         "y": [
          512,
          128,
          512,
          256,
          128,
          256,
          512,
          128,
          256,
          128,
          512,
          256,
          256,
          1000,
          512,
          128,
          512,
          512,
          128,
          128,
          256,
          128,
          512,
          256,
          512,
          128,
          512,
          512,
          256,
          1000,
          512,
          1000
         ],
         "yaxis": "y"
        },
        {
         "hovertemplate": "phone_brand=motorola<br>price_usd=%{x}<br>storage=%{y}<extra></extra>",
         "legendgroup": "motorola",
         "marker": {
          "color": "#FF6692",
          "symbol": "circle"
         },
         "mode": "markers",
         "name": "motorola",
         "showlegend": true,
         "type": "scattergl",
         "x": [
          151.19,
          99.4,
          215.46,
          159.29,
          214.68,
          534.63,
          136.29,
          135.9,
          106.73,
          125.33,
          175.74,
          92.87,
          571.04,
          184.74,
          199.79,
          790.56,
          233.02,
          1167.12,
          123.11,
          128.51,
          182.62,
          302.39,
          139.08,
          173.22,
          185.75,
          129.59,
          125.81,
          309.95,
          91.04,
          151.41,
          629.74,
          477.49,
          362.89,
          626.86,
          193.32,
          268.92,
          497.73,
          1078.92,
          916.92,
          273.35,
          892.12,
          376.92,
          631.79,
          544.83,
          117.15,
          137.42,
          99.42,
          160,
          265,
          295,
          359.95,
          375,
          84.98,
          370.99,
          190,
          68,
          84.74,
          64.95,
          189.99,
          84.95,
          249.99,
          299.99,
          495,
          147.99,
          399.99,
          999,
          229.99,
          999.99,
          425,
          390,
          160.99,
          189,
          59.98,
          99.5,
          60,
          775,
          179.99,
          184.5,
          990,
          990,
          264.95,
          95,
          345,
          410,
          99.99,
          239.99,
          268,
          299,
          234.11,
          489.99,
          99,
          129.99,
          309.95,
          312.99,
          359.99,
          168,
          399.99,
          79.95,
          169.99,
          266.56,
          212.31,
          399.99,
          450,
          699,
          129,
          150.35,
          141.29,
          167.21,
          531.44,
          199.61,
          136.1,
          517.18,
          116.65,
          815.18,
          194.42,
          426.45,
          1160.1,
          374.6,
          145.16,
          304.1,
          464.69,
          88.52,
          116.59,
          168.38,
          116.65,
          192.81,
          316.77,
          88.78,
          180.17,
          627.36,
          549.59,
          329.13,
          1676.84,
          259.23,
          518.47,
          1042.38,
          714.75,
          302.7,
          1014.5,
          282.77,
          635.13,
          175.51
         ],
         "xaxis": "x",
         "y": [
          128,
          64,
          128,
          256,
          128,
          256,
          128,
          128,
          64,
          128,
          128,
          64,
          256,
          128,
          256,
          256,
          256,
          256,
          128,
          128,
          128,
          256,
          128,
          128,
          256,
          128,
          128,
          256,
          256,
          256,
          256,
          256,
          256,
          512,
          128,
          256,
          512,
          256,
          512,
          256,
          512,
          256,
          256,
          512,
          128,
          128,
          128,
          128,
          64,
          128,
          128,
          256,
          256,
          128,
          128,
          128,
          128,
          64,
          64,
          128,
          256,
          128,
          128,
          256,
          256,
          256,
          256,
          256,
          128,
          128,
          64,
          128,
          128,
          128,
          64,
          256,
          128,
          256,
          256,
          256,
          256,
          128,
          128,
          128,
          256,
          256,
          128,
          128,
          256,
          256,
          256,
          256,
          256,
          256,
          256,
          256,
          256,
          128,
          128,
          256,
          256,
          256,
          256,
          256,
          128,
          128,
          128,
          128,
          128,
          256,
          128,
          128,
          128,
          256,
          128,
          256,
          256,
          256,
          128,
          128,
          128,
          128,
          128,
          128,
          256,
          256,
          256,
          256,
          256,
          256,
          256,
          256,
          512,
          256,
          512,
          256,
          512,
          256,
          512,
          256,
          256,
          128
         ],
         "yaxis": "y"
        },
        {
         "hovertemplate": "phone_brand=nokia<br>price_usd=%{x}<br>storage=%{y}<extra></extra>",
         "legendgroup": "nokia",
         "marker": {
          "color": "#B6E880",
          "symbol": "circle"
         },
         "mode": "markers",
         "name": "nokia",
         "showlegend": true,
         "type": "scattergl",
         "x": [
          269.22,
          204.11,
          161.99,
          117.19,
          97.53,
          118.79,
          296.06,
          142.93,
          269.92,
          323.84,
          131.76,
          275.19,
          111.22,
          103.66,
          97.97,
          183.49,
          96.26,
          112.15,
          399,
          240.01,
          110.26,
          125.73,
          529,
          56.87,
          169.99,
          400,
          299.99,
          190.16,
          490,
          255,
          233,
          159.99,
          219.99,
          257.94,
          168.48,
          98.51,
          96.55,
          229.43,
          154.25,
          165.77,
          110.14,
          265.71,
          73.88,
          85.81,
          102.4,
          90.73,
          142.57,
          279.89,
          115.09,
          291.4,
          241.3,
          162
         ],
         "xaxis": "x",
         "y": [
          128,
          128,
          256,
          64,
          64,
          128,
          256,
          32,
          128,
          128,
          128,
          128,
          32,
          64,
          32,
          64,
          64,
          128,
          128,
          128,
          64,
          128,
          256,
          128,
          128,
          128,
          128,
          128,
          128,
          64,
          32,
          64,
          128,
          128,
          128,
          64,
          128,
          256,
          128,
          128,
          128,
          128,
          32,
          64,
          32,
          64,
          128,
          256,
          32,
          128,
          128,
          64
         ],
         "yaxis": "y"
        },
        {
         "hovertemplate": "phone_brand=nothing<br>price_usd=%{x}<br>storage=%{y}<extra></extra>",
         "legendgroup": "nothing",
         "marker": {
          "color": "#FF97FF",
          "symbol": "circle"
         },
         "mode": "markers",
         "name": "nothing",
         "showlegend": true,
         "type": "scattergl",
         "x": [
          258.12,
          350.74,
          463.32,
          330.47,
          301.17,
          381.63,
          562.57,
          648.85,
          349.99,
          529,
          349.5,
          590,
          634.5,
          270.91,
          515.87,
          385.35,
          251.61,
          374.6,
          741.43,
          645.82
         ],
         "xaxis": "x",
         "y": [
          128,
          256,
          256,
          256,
          256,
          256,
          256,
          512,
          256,
          256,
          256,
          256,
          512,
          128,
          256,
          256,
          256,
          256,
          256,
          512
         ],
         "yaxis": "y"
        },
        {
         "hovertemplate": "phone_brand=oneplus<br>price_usd=%{x}<br>storage=%{y}<extra></extra>",
         "legendgroup": "oneplus",
         "marker": {
          "color": "#FECB52",
          "symbol": "circle"
         },
         "mode": "markers",
         "name": "oneplus",
         "showlegend": true,
         "type": "scattergl",
         "x": [
          482.76,
          280.79,
          439.5,
          622.08,
          168.36,
          259.19,
          154.44,
          279.72,
          410.39,
          248.39,
          305.62,
          189.55,
          603.5,
          909.51,
          172.79,
          212.99,
          357.87,
          272.45,
          680.39,
          432.67,
          628.51,
          210.01,
          221.77,
          136.98,
          296.45,
          203.14,
          495,
          149.99,
          359.99,
          239.95,
          750,
          199.99,
          129.9,
          185,
          405,
          419.99,
          219.95,
          429.99,
          499.99,
          649.99,
          799.99,
          199.99,
          259.94,
          599.99,
          595,
          553.91,
          425,
          235,
          167.62,
          897,
          499.95,
          550,
          556.07,
          278.67,
          435.56,
          863.11,
          193.13,
          193.13,
          159.43,
          241.09,
          480.2,
          362.61,
          311.02,
          644.21,
          970.85,
          159.43,
          254.04,
          543.11,
          269.91,
          734.76,
          590.65,
          744.47,
          272.2,
          219.06,
          375.83,
          291.63,
          414.78
         ],
         "xaxis": "x",
         "y": [
          512,
          256,
          256,
          256,
          128,
          128,
          256,
          128,
          256,
          128,
          256,
          256,
          256,
          512,
          128,
          256,
          256,
          256,
          256,
          256,
          256,
          256,
          256,
          256,
          256,
          256,
          256,
          128,
          256,
          256,
          256,
          128,
          256,
          128,
          256,
          256,
          256,
          256,
          256,
          512,
          512,
          128,
          256,
          256,
          256,
          256,
          256,
          256,
          256,
          128,
          256,
          256,
          512,
          256,
          256,
          256,
          128,
          128,
          256,
          128,
          256,
          128,
          256,
          256,
          512,
          128,
          256,
          256,
          256,
          256,
          256,
          256,
          256,
          256,
          256,
          256,
          256
         ],
         "yaxis": "y"
        },
        {
         "hovertemplate": "phone_brand=oppo<br>price_usd=%{x}<br>storage=%{y}<extra></extra>",
         "legendgroup": "oppo",
         "marker": {
          "color": "#636efa",
          "symbol": "circle"
         },
         "mode": "markers",
         "name": "oppo",
         "showlegend": true,
         "type": "scattergl",
         "x": [
          264.59,
          90.9,
          156.59,
          183.59,
          135.48,
          633.99,
          168.92,
          144.71,
          361.56,
          255.72,
          232.19,
          409.19,
          259.19,
          529.99,
          755.99,
          253.04,
          183.59,
          329.9,
          326.2,
          215.95,
          293,
          350,
          179.99,
          441,
          539,
          359.25,
          495,
          1070,
          530,
          372.72,
          620,
          849,
          428.36,
          660,
          405,
          129.61,
          129.61,
          142.71,
          155.4,
          129.62,
          661.05,
          110.18,
          142.58,
          244.98,
          402.86,
          167.14,
          258.27,
          291.64,
          246.27,
          518.48,
          330.53,
          282.57,
          150.36,
          305.89,
          208.69,
          348.68,
          239.51
         ],
         "xaxis": "x",
         "y": [
          256,
          64,
          256,
          128,
          128,
          512,
          64,
          128,
          256,
          256,
          128,
          256,
          256,
          256,
          512,
          256,
          128,
          256,
          256,
          256,
          256,
          64,
          128,
          128,
          512,
          256,
          128,
          256,
          256,
          256,
          256,
          512,
          256,
          256,
          32,
          64,
          256,
          128,
          128,
          128,
          512,
          64,
          128,
          256,
          256,
          256,
          128,
          256,
          256,
          512,
          256,
          256,
          128,
          256,
          256,
          256,
          256
         ],
         "yaxis": "y"
        },
        {
         "hovertemplate": "phone_brand=realme<br>price_usd=%{x}<br>storage=%{y}<extra></extra>",
         "legendgroup": "realme",
         "marker": {
          "color": "#EF553B",
          "symbol": "circle"
         },
         "mode": "markers",
         "name": "realme",
         "showlegend": true,
         "type": "scattergl",
         "x": [
          102.59,
          247.32,
          313.64,
          286.2,
          156.6,
          441.72,
          308.87,
          161.98,
          107.99,
          410.39,
          77.38,
          518.39,
          637.19,
          224.06,
          161.99,
          259.19,
          160.92,
          463.13,
          121.24,
          399.59,
          124.19,
          257.03,
          259.19,
          118.01,
          241.41,
          361.68,
          471.41,
          143.52,
          539,
          199.99,
          534.98,
          540,
          215,
          655,
          266.12,
          279,
          209.75,
          179.99,
          109,
          90,
          249.99,
          361,
          275,
          159.99,
          153.34,
          324.59,
          586.83,
          164.28,
          480.53,
          98.56,
          417.51,
          89.09,
          128.57,
          245.38,
          314.72,
          269.61,
          168.49,
          552.53,
          571.96,
          412.37,
          220.41,
          201.38,
          121.27,
          162.05,
          134.53,
          220.8,
          122.63
         ],
         "xaxis": "x",
         "y": [
          32,
          256,
          128,
          256,
          128,
          256,
          256,
          256,
          128,
          512,
          128,
          128,
          256,
          128,
          128,
          128,
          64,
          256,
          128,
          256,
          128,
          128,
          128,
          256,
          256,
          256,
          256,
          256,
          128,
          128,
          256,
          256,
          128,
          128,
          64,
          128,
          128,
          128,
          64,
          128,
          128,
          128,
          256,
          256,
          128,
          128,
          256,
          128,
          256,
          128,
          512,
          128,
          64,
          128,
          128,
          128,
          64,
          256,
          256,
          256,
          256,
          256,
          256,
          256,
          64,
          256,
          256
         ],
         "yaxis": "y"
        },
        {
         "hovertemplate": "phone_brand=samsung<br>price_usd=%{x}<br>storage=%{y}<extra></extra>",
         "legendgroup": "samsung",
         "marker": {
          "color": "#00cc96",
          "symbol": "circle"
         },
         "mode": "markers",
         "name": "samsung",
         "showlegend": true,
         "type": "scattergl",
         "x": [
          202.05,
          165.56,
          323.99,
          313.19,
          289.98,
          367.77,
          474.12,
          140.39,
          136.46,
          127.27,
          301.32,
          333.76,
          423.07,
          139.73,
          376.92,
          291.59,
          345.59,
          143.64,
          239.74,
          193.31,
          172.18,
          265.25,
          125.24,
          149.04,
          189.91,
          475.2,
          455.61,
          544.31,
          592.92,
          117.71,
          118.69,
          206.43,
          319,
          445.62,
          254.06,
          199.8,
          139.96,
          201.42,
          183.88,
          206.27,
          245.17,
          422.28,
          459,
          934.2,
          853.16,
          421.19,
          271.17,
          550.8,
          210.95,
          131.44,
          146.97,
          214.41,
          199.32,
          1100.52,
          1239.84,
          863.63,
          265.59,
          312.08,
          344.52,
          379.03,
          353.14,
          668.52,
          755.89,
          249.48,
          729.01,
          160.37,
          1274.29,
          1476.36,
          808.92,
          873.72,
          203.81,
          183.46,
          97.2,
          152.92,
          535.68,
          700.34,
          150.12,
          201.83,
          863.99,
          236.47,
          808.92,
          949.55,
          307.8,
          361.8,
          1238.76,
          971.94,
          521.56,
          119.06,
          140.42,
          793.36,
          442.79,
          113.76,
          108,
          139.63,
          151.09,
          259.09,
          316.44,
          352.08,
          508.56,
          548.85,
          755.99,
          196.88,
          145.8,
          124.37,
          140.39,
          383.39,
          538.92,
          193.32,
          193.32,
          119.87,
          463.9,
          729,
          505.16,
          347.76,
          429.83,
          604.79,
          132.6,
          168.31,
          320.76,
          171.23,
          540,
          343.43,
          288.08,
          266.59,
          397.43,
          464.39,
          238.29,
          184.28,
          131.58,
          122.64,
          119.99,
          479.97,
          129.99,
          219.95,
          449.99,
          150,
          499,
          99,
          219.22,
          148.44,
          278,
          159.07,
          169.79,
          121.77,
          144.5,
          130,
          169.99,
          259,
          170,
          485.99,
          489,
          68.49,
          130,
          159.99,
          274,
          999.99,
          829.99,
          147.99,
          174.99,
          360.99,
          384.95,
          394.95,
          829,
          929,
          87,
          104,
          114.99,
          134.09,
          183.7,
          219.99,
          389,
          499.99,
          299.99,
          79,
          599,
          100,
          299.99,
          351,
          235,
          899.99,
          809.99,
          999.99,
          1059.99,
          69.5,
          848,
          629.77,
          1599.99,
          1719.99,
          1799.99,
          1919.99,
          399.95,
          1799.99,
          399.99,
          119.99,
          128.99,
          134.99,
          729.95,
          898.94,
          1049.99,
          1219.99,
          1219.99,
          569.95,
          999.99,
          249.99,
          248.87,
          399.99,
          299.99,
          311.5,
          469.98,
          614.5,
          719.99,
          779.99,
          859.99,
          1099.99,
          1099.99,
          1899.99,
          1899.99,
          1899.99,
          2019.99,
          125,
          649.99,
          709.99,
          649.99,
          709.99,
          159.95,
          299.99,
          199.99,
          139,
          132,
          129.99,
          354.9,
          473.5,
          759.99,
          699.99,
          859.99,
          59.95,
          125,
          199.99,
          199.99,
          469.66,
          999.99,
          999.99,
          245,
          635.5,
          669.99,
          692,
          759.99,
          178,
          235.95,
          187.49,
          1375,
          880,
          1799.99,
          1919.99,
          1799.99,
          414.99,
          999.99,
          999.99,
          89.99,
          89.99,
          99.99,
          349.99,
          269.99,
          599.99,
          499.99,
          83,
          64.57,
          365.99,
          78,
          119.99,
          149.99,
          187.15,
          203.07,
          679,
          899.99,
          255.45,
          342.64,
          1499,
          73.7,
          144,
          180,
          66.43,
          231.74,
          106.83,
          151.08,
          224.95,
          314.18,
          650,
          779.46,
          244.95,
          999.99,
          124.99,
          196,
          270,
          409.98,
          140.83,
          311.78,
          139.7,
          249.99,
          160.24,
          789.99,
          789.99,
          192.5,
          130,
          132.15,
          194.42,
          179.51,
          300.45,
          191.84,
          257.94,
          117.95,
          129.61,
          972.14,
          412.19,
          162.01,
          239.78,
          159.43,
          127.66,
          401.81,
          174.99,
          362.94,
          387.56,
          281.28,
          103.03,
          167.2,
          278.67,
          246.27,
          414.72,
          531.44,
          576.81,
          180.17,
          102.33,
          212.58,
          485.97,
          232.02,
          285.15,
          285.1,
          149.05,
          168.49,
          216.71,
          233.3,
          187.95,
          300.72,
          330.53,
          646.8,
          725.87,
          416.66,
          490.94,
          167.21,
          99.81,
          102.32,
          158.12,
          189.23,
          998.04,
          1178.25,
          944.86,
          222.95,
          272.19,
          329.23,
          622.21,
          368.81,
          667.53,
          777.71,
          939.74,
          174.97,
          1814.67,
          2020.78,
          841.23,
          906.04,
          187.94,
          193.26,
          115.36,
          141.93,
          407.64,
          479.58,
          119.25,
          173.68,
          173.69,
          547,
          206.1,
          261.82,
          829.5,
          1296.19,
          884.7,
          230.53,
          276.09,
          887.88,
          880.12,
          552.83,
          109.27,
          122.36,
          129.62,
          427.68,
          98.5,
          136.1,
          200.91,
          246.27,
          127.03,
          246.28,
          233.25,
          361.6,
          330.52,
          103.68,
          95.92,
          155.54,
          116.66,
          306.58,
          181.46,
          245.62,
          155.48,
          224.24,
          154.25,
          907.33,
          432.93,
          312.38,
          491.26,
          194.42,
          185.36,
          178.88,
          648.09,
          298.11,
          136.1,
          289.05,
          602.73,
          581.99,
          155.53,
          426.45,
          181.46
         ],
         "xaxis": "x",
         "y": [
          128,
          128,
          128,
          128,
          256,
          128,
          256,
          32,
          64,
          64,
          128,
          256,
          512,
          128,
          128,
          128,
          256,
          128,
          256,
          512,
          128,
          512,
          32,
          32,
          64,
          256,
          256,
          512,
          1000,
          32,
          64,
          128,
          128,
          128,
          128,
          128,
          128,
          32,
          64,
          64,
          128,
          256,
          512,
          512,
          1000,
          128,
          256,
          512,
          128,
          32,
          128,
          128,
          256,
          512,
          1000,
          512,
          128,
          256,
          256,
          256,
          256,
          256,
          512,
          256,
          512,
          128,
          512,
          1000,
          256,
          512,
          256,
          128,
          128,
          128,
          256,
          512,
          128,
          128,
          512,
          256,
          512,
          1000,
          128,
          256,
          512,
          1000,
          512,
          128,
          128,
          256,
          256,
          32,
          128,
          128,
          32,
          32,
          256,
          256,
          256,
          512,
          512,
          32,
          64,
          128,
          32,
          256,
          512,
          128,
          128,
          64,
          256,
          256,
          256,
          256,
          128,
          256,
          128,
          128,
          128,
          128,
          256,
          128,
          256,
          128,
          128,
          256,
          128,
          32,
          32,
          128,
          128,
          256,
          128,
          256,
          256,
          128,
          256,
          32,
          64,
          128,
          512,
          128,
          128,
          128,
          256,
          128,
          128,
          512,
          128,
          512,
          1000,
          32,
          32,
          32,
          256,
          256,
          256,
          64,
          128,
          256,
          512,
          1000,
          256,
          512,
          32,
          64,
          128,
          128,
          128,
          256,
          256,
          128,
          128,
          128,
          128,
          64,
          64,
          256,
          512,
          256,
          512,
          256,
          512,
          128,
          512,
          1000,
          512,
          1000,
          512,
          1000,
          512,
          512,
          128,
          32,
          128,
          128,
          512,
          1000,
          512,
          1000,
          512,
          512,
          512,
          128,
          256,
          128,
          256,
          256,
          256,
          512,
          256,
          512,
          256,
          512,
          512,
          512,
          1000,
          512,
          1000,
          128,
          256,
          512,
          256,
          512,
          256,
          256,
          128,
          128,
          256,
          128,
          256,
          512,
          256,
          256,
          512,
          128,
          128,
          128,
          128,
          512,
          512,
          512,
          128,
          256,
          512,
          1000,
          256,
          128,
          256,
          128,
          512,
          1000,
          512,
          1000,
          512,
          512,
          512,
          512,
          128,
          128,
          128,
          256,
          256,
          256,
          256,
          32,
          128,
          128,
          32,
          32,
          32,
          256,
          256,
          256,
          256,
          256,
          512,
          512,
          32,
          64,
          128,
          32,
          256,
          128,
          128,
          256,
          256,
          256,
          512,
          256,
          256,
          32,
          128,
          256,
          512,
          128,
          128,
          128,
          128,
          128,
          128,
          256,
          32,
          32,
          128,
          128,
          128,
          256,
          128,
          256,
          32,
          64,
          64,
          512,
          128,
          128,
          128,
          128,
          256,
          512,
          128,
          512,
          128,
          32,
          32,
          256,
          64,
          256,
          512,
          1000,
          32,
          64,
          128,
          128,
          128,
          128,
          128,
          128,
          128,
          32,
          64,
          128,
          256,
          512,
          512,
          1000,
          128,
          512,
          128,
          32,
          64,
          128,
          128,
          512,
          1000,
          512,
          128,
          256,
          256,
          256,
          256,
          256,
          512,
          512,
          128,
          512,
          1000,
          256,
          512,
          256,
          128,
          128,
          128,
          256,
          512,
          128,
          128,
          128,
          512,
          128,
          256,
          256,
          512,
          1000,
          128,
          256,
          512,
          1000,
          512,
          128,
          128,
          128,
          256,
          32,
          128,
          128,
          128,
          32,
          256,
          256,
          256,
          512,
          32,
          64,
          128,
          32,
          256,
          128,
          128,
          128,
          64,
          128,
          256,
          256,
          256,
          128,
          128,
          128,
          128,
          256,
          128,
          128,
          128,
          256,
          128,
          32,
          64,
          32
         ],
         "yaxis": "y"
        },
        {
         "hovertemplate": "phone_brand=sony<br>price_usd=%{x}<br>storage=%{y}<extra></extra>",
         "legendgroup": "sony",
         "marker": {
          "color": "#ab63fa",
          "symbol": "circle"
         },
         "mode": "markers",
         "name": "sony",
         "showlegend": true,
         "type": "scattergl",
         "x": [
          1131.84,
          645.27,
          1049.81,
          754.92,
          208.76,
          453.06,
          489.83,
          975,
          749,
          639.95,
          1399.99,
          839,
          329.99,
          629.95,
          689,
          550,
          904,
          1372.68,
          877.53,
          1043.44,
          711.61,
          283.87,
          326.51,
          427.68
         ],
         "xaxis": "x",
         "y": [
          512,
          512,
          512,
          256,
          256,
          256,
          512,
          512,
          256,
          512,
          512,
          512,
          128,
          256,
          256,
          256,
          512,
          512,
          512,
          512,
          256,
          256,
          256,
          512
         ],
         "yaxis": "y"
        },
        {
         "hovertemplate": "phone_brand=tcl<br>price_usd=%{x}<br>storage=%{y}<extra></extra>",
         "legendgroup": "tcl",
         "marker": {
          "color": "#FFA15A",
          "symbol": "circle"
         },
         "mode": "markers",
         "name": "tcl",
         "showlegend": true,
         "type": "scattergl",
         "x": [
          92.56,
          250.37,
          90.72,
          212.42
         ],
         "xaxis": "x",
         "y": [
          256,
          256,
          256,
          256
         ],
         "yaxis": "y"
        },
        {
         "hovertemplate": "phone_brand=tecno<br>price_usd=%{x}<br>storage=%{y}<extra></extra>",
         "legendgroup": "tecno",
         "marker": {
          "color": "#19d3f3",
          "symbol": "circle"
         },
         "mode": "markers",
         "name": "tecno",
         "showlegend": true,
         "type": "scattergl",
         "x": [
          496.78,
          124.14,
          118.57,
          172.78,
          157.62
         ],
         "xaxis": "x",
         "y": [
          256,
          128,
          64,
          256,
          128
         ],
         "yaxis": "y"
        },
        {
         "hovertemplate": "phone_brand=vivo<br>price_usd=%{x}<br>storage=%{y}<extra></extra>",
         "legendgroup": "vivo",
         "marker": {
          "color": "#FF6692",
          "symbol": "circle"
         },
         "mode": "markers",
         "name": "vivo",
         "showlegend": true,
         "type": "scattergl",
         "x": [
          520.11,
          732.18,
          142.61,
          523.32,
          752.75,
          888.88,
          69.3,
          649.59,
          596.99,
          759.99,
          584.79,
          591.99
         ],
         "xaxis": "x",
         "y": [
          256,
          512,
          256,
          256,
          256,
          256,
          128,
          512,
          1000,
          256,
          256,
          512
         ],
         "yaxis": "y"
        },
        {
         "hovertemplate": "phone_brand=xiaomi<br>price_usd=%{x}<br>storage=%{y}<extra></extra>",
         "legendgroup": "xiaomi",
         "marker": {
          "color": "#B6E880",
          "symbol": "circle"
         },
         "mode": "markers",
         "name": "xiaomi",
         "showlegend": true,
         "type": "scattergl",
         "x": [
          196.81,
          172.79,
          91.79,
          104.94,
          121.6,
          127.43,
          152.28,
          529.19,
          525.73,
          204.12,
          255.54,
          236.52,
          430.92,
          390.95,
          77.75,
          116.63,
          172.79,
          145.79,
          170.63,
          209.19,
          196.99,
          355.32,
          113.66,
          162.53,
          212.19,
          152.47,
          102.44,
          80.99,
          376.92,
          677.83,
          1056.22,
          302.39,
          240.68,
          107.99,
          170.12,
          228.92,
          167.39,
          168.48,
          204.11,
          89.22,
          104.66,
          144.03,
          160.92,
          215.98,
          377.99,
          138.15,
          151.19,
          194.39,
          233.15,
          389.58,
          209.51,
          116.1,
          245.13,
          285.76,
          148.05,
          215.99,
          116.64,
          389.58,
          447.2,
          467.64,
          340.2,
          752.25,
          1164.24,
          78.31,
          106.92,
          129.49,
          135,
          701.89,
          825.55,
          150.12,
          213.35,
          307.08,
          213.55,
          161.99,
          588.39,
          431.99,
          111.24,
          156.59,
          289.43,
          199.09,
          257.03,
          496.79,
          1460.38,
          278.64,
          339.12,
          363.95,
          152.45,
          174.86,
          235.42,
          250.56,
          214.89,
          265.37,
          186.3,
          114.88,
          132.82,
          119.88,
          116.63,
          120.84,
          139.61,
          126.06,
          118.12,
          118.79,
          309.74,
          345.59,
          197.01,
          91.25,
          110.69,
          186.83,
          66.36,
          118.79,
          129.59,
          140.39,
          215.99,
          161.99,
          268.92,
          109.07,
          198.04,
          170.41,
          269.99,
          259.65,
          131.75,
          174.85,
          212.75,
          237.59,
          207.77,
          102.59,
          194.03,
          302.29,
          166.31,
          172.79,
          104.75,
          107.99,
          215.89,
          167.39,
          180.05,
          169.89,
          161.99,
          270,
          137.15,
          149.58,
          188.99,
          143.63,
          168.78,
          95.04,
          161.14,
          196.99,
          214.42,
          113.4,
          129.59,
          274.32,
          197.63,
          208.32,
          194.4,
          81.76,
          122.53,
          144.99,
          209.99,
          419.41,
          220,
          284.45,
          209.5,
          169.99,
          164.99,
          159.99,
          179.99,
          160,
          154.5,
          189.9,
          59.5,
          340,
          229,
          213.99,
          159.99,
          170,
          242.5,
          149.5,
          199.99,
          224.99,
          199,
          229,
          138.73,
          152.41,
          322,
          374.3,
          84.99,
          129.99,
          199.99,
          230,
          104,
          469.99,
          481.49,
          364.89,
          91,
          849.5,
          1075,
          84.5,
          94,
          159,
          167.25,
          213,
          262.5,
          490.04,
          459.99,
          139.99,
          155.25,
          1349,
          1178,
          300,
          269.99,
          144.99,
          539.99,
          1199,
          529,
          275.7,
          329.05,
          133.7,
          169.99,
          242.99,
          252.99,
          187.5,
          212.5,
          282.5,
          321.99,
          187.5,
          119,
          132.27,
          137.16,
          139.99,
          119.99,
          118.79,
          85.99,
          146.65,
          139.99,
          160,
          152.99,
          179.99,
          299.99,
          249.99,
          290,
          161,
          189.99,
          228,
          189.99,
          160,
          170,
          129.99,
          159.99,
          139.99,
          204.99,
          79.7,
          158.95,
          453.67,
          259.24,
          369.18,
          99.39,
          183.22,
          168.51,
          180.3,
          413.49,
          125.77,
          150.96,
          63.51,
          71.28,
          443.84,
          989.84,
          373.79,
          168.51,
          311.37,
          223.61,
          159.59,
          159.29,
          157.77,
          329.55,
          357.73,
          548.44,
          434.21,
          227.53,
          305.86,
          189.15,
          518.47,
          501.43,
          533.63,
          361.68,
          973.28,
          1340.1,
          142.57,
          147.43,
          938.6,
          906.04,
          270.8,
          327.94,
          318.87,
          504.22,
          126.9,
          461.42,
          343.7,
          641.62,
          545.69,
          330.52,
          541.75,
          581.99,
          177.58,
          365.52,
          824.38,
          174.99,
          326.2,
          333.46,
          387.56,
          232.02,
          141.53,
          170.79,
          129.41,
          111.33,
          112.73,
          311.08,
          168.49,
          362.94,
          128.69,
          447.19,
          332.45,
          389.35,
          487.49,
          84.24,
          101.09,
          163.27,
          181.47,
          101.74,
          254.86,
          139.08,
          150.24,
          452.37,
          129.61,
          320.2,
          116.65,
          281.68,
          174.97,
          349.83,
          224.54,
          159.98,
          281.94,
          217.76,
          139.99,
          184.22,
          174.97,
          324.05,
          177.22,
          243.52,
          180.83,
          219.06,
          280.07,
          146.83,
          143.88,
          174.7,
          152.73,
          185.62,
          155.54,
          193.42,
          316.27,
          330.4,
          116.65,
          129.61,
          259.23,
          207.38,
          556.07,
          174.97,
          190.53,
          251.73,
          84,
          399,
          137.36,
          176.33,
          107,
          205,
          119.21,
          195,
          154,
          89.91,
          69.63,
          92.98,
          249.29,
          127,
          93.52,
          75,
          144.6,
          295,
          249.29,
          108.37,
          111.25,
          153.49,
          161.07,
          159,
          154.69,
          1999,
          262.05,
          200,
          436.99,
          119,
          1305,
          189,
          899,
          219.72,
          218.27,
          289.12,
          169,
          235.37,
          228,
          755,
          111,
          369,
          342.77,
          174.49,
          82.24,
          105,
          158.09,
          125.99,
          85.5,
          64.8,
          86.25,
          52.63,
          71.1,
          66.11,
          125.56,
          139.5,
          156,
          145.35,
          161,
          266.66
         ],
         "xaxis": "x",
         "y": [
          128,
          128,
          64,
          64,
          128,
          128,
          128,
          256,
          256,
          128,
          256,
          256,
          256,
          256,
          32,
          128,
          128,
          128,
          128,
          256,
          128,
          256,
          128,
          128,
          128,
          256,
          32,
          64,
          256,
          256,
          256,
          256,
          256,
          128,
          256,
          256,
          128,
          256,
          256,
          32,
          64,
          128,
          128,
          128,
          256,
          128,
          128,
          256,
          256,
          256,
          256,
          64,
          128,
          128,
          128,
          128,
          64,
          256,
          512,
          1000,
          512,
          512,
          512,
          128,
          128,
          256,
          256,
          512,
          512,
          128,
          128,
          256,
          512,
          128,
          256,
          512,
          128,
          256,
          256,
          128,
          256,
          512,
          1000,
          512,
          512,
          512,
          128,
          256,
          256,
          512,
          256,
          512,
          512,
          128,
          256,
          256,
          128,
          128,
          128,
          64,
          128,
          128,
          256,
          256,
          256,
          32,
          64,
          128,
          32,
          64,
          128,
          128,
          128,
          256,
          128,
          128,
          128,
          128,
          128,
          128,
          128,
          128,
          128,
          128,
          256,
          128,
          128,
          128,
          128,
          128,
          128,
          128,
          128,
          128,
          128,
          128,
          128,
          128,
          64,
          128,
          128,
          128,
          128,
          128,
          64,
          128,
          256,
          128,
          128,
          256,
          256,
          128,
          256,
          64,
          64,
          128,
          128,
          256,
          128,
          256,
          256,
          128,
          128,
          128,
          128,
          128,
          128,
          128,
          64,
          256,
          256,
          256,
          128,
          256,
          256,
          128,
          256,
          128,
          128,
          256,
          128,
          128,
          256,
          256,
          64,
          128,
          128,
          128,
          64,
          512,
          1000,
          512,
          128,
          512,
          512,
          128,
          128,
          256,
          256,
          256,
          512,
          256,
          512,
          128,
          256,
          512,
          512,
          256,
          128,
          256,
          512,
          1000,
          256,
          512,
          512,
          128,
          256,
          256,
          512,
          256,
          256,
          256,
          512,
          512,
          128,
          256,
          256,
          128,
          32,
          64,
          64,
          64,
          128,
          64,
          128,
          128,
          128,
          128,
          128,
          128,
          128,
          128,
          128,
          128,
          128,
          64,
          128,
          128,
          128,
          64,
          128,
          256,
          128,
          256,
          32,
          128,
          128,
          128,
          256,
          128,
          128,
          32,
          64,
          256,
          256,
          256,
          128,
          256,
          128,
          128,
          128,
          128,
          256,
          256,
          256,
          128,
          128,
          128,
          64,
          256,
          512,
          1000,
          512,
          512,
          512,
          256,
          256,
          512,
          512,
          128,
          256,
          512,
          256,
          128,
          256,
          128,
          512,
          256,
          512,
          512,
          512,
          256,
          256,
          512,
          256,
          256,
          256,
          512,
          512,
          128,
          256,
          256,
          128,
          128,
          128,
          64,
          128,
          128,
          128,
          256,
          256,
          256,
          32,
          64,
          64,
          128,
          32,
          64,
          128,
          128,
          128,
          64,
          256,
          128,
          128,
          128,
          128,
          128,
          128,
          256,
          128,
          128,
          128,
          128,
          128,
          128,
          128,
          128,
          128,
          128,
          64,
          128,
          128,
          128,
          128,
          128,
          64,
          128,
          256,
          128,
          128,
          256,
          256,
          128,
          256,
          256,
          128,
          64,
          256,
          128,
          128,
          256,
          128,
          128,
          128,
          128,
          32,
          64,
          32,
          256,
          128,
          32,
          64,
          128,
          256,
          128,
          32,
          64,
          256,
          128,
          256,
          256,
          512,
          256,
          512,
          256,
          128,
          512,
          128,
          512,
          256,
          256,
          256,
          128,
          256,
          512,
          256,
          256,
          256,
          512,
          512,
          128,
          256,
          128,
          64,
          128,
          32,
          32,
          64,
          128,
          64,
          128,
          128,
          128,
          128,
          128,
          128
         ],
         "yaxis": "y"
        },
        {
         "hovertemplate": "phone_brand=zte<br>price_usd=%{x}<br>storage=%{y}<extra></extra>",
         "legendgroup": "zte",
         "marker": {
          "color": "#FF97FF",
          "symbol": "circle"
         },
         "mode": "markers",
         "name": "zte",
         "showlegend": true,
         "type": "scattergl",
         "x": [
          115.55,
          539.99,
          547.53,
          127.43,
          808.92,
          749,
          579.39,
          758.26,
          841.23,
          676.62,
          854.2,
          1165.28,
          515
         ],
         "xaxis": "x",
         "y": [
          256,
          256,
          1000,
          256,
          512,
          512,
          256,
          256,
          512,
          1000,
          512,
          256,
          128
         ],
         "yaxis": "y"
        },
        {
         "hovertemplate": "phone_brand=htc<br>price_usd=%{x}<br>storage=%{y}<extra></extra>",
         "legendgroup": "htc",
         "marker": {
          "color": "#FECB52",
          "symbol": "circle"
         },
         "mode": "markers",
         "name": "htc",
         "showlegend": true,
         "type": "scattergl",
         "x": [
          399
         ],
         "xaxis": "x",
         "y": [
          256
         ],
         "yaxis": "y"
        },
        {
         "hovertemplate": "phone_brand=cubot<br>price_usd=%{x}<br>storage=%{y}<extra></extra>",
         "legendgroup": "cubot",
         "marker": {
          "color": "#636efa",
          "symbol": "circle"
         },
         "mode": "markers",
         "name": "cubot",
         "showlegend": true,
         "type": "scattergl",
         "x": [
          208.79
         ],
         "xaxis": "x",
         "y": [
          512
         ],
         "yaxis": "y"
        },
        {
         "hovertemplate": "phone_brand=infinix<br>price_usd=%{x}<br>storage=%{y}<extra></extra>",
         "legendgroup": "infinix",
         "marker": {
          "color": "#EF553B",
          "symbol": "circle"
         },
         "mode": "markers",
         "name": "infinix",
         "showlegend": true,
         "type": "scattergl",
         "x": [
          92.5,
          102.13
         ],
         "xaxis": "x",
         "y": [
          128,
          128
         ],
         "yaxis": "y"
        }
       ],
       "layout": {
        "autosize": true,
        "legend": {
         "title": {
          "text": "phone_brand"
         },
         "tracegroupgap": 0
        },
        "template": {
         "data": {
          "bar": [
           {
            "error_x": {
             "color": "#2a3f5f"
            },
            "error_y": {
             "color": "#2a3f5f"
            },
            "marker": {
             "line": {
              "color": "#E5ECF6",
              "width": 0.5
             },
             "pattern": {
              "fillmode": "overlay",
              "size": 10,
              "solidity": 0.2
             }
            },
            "type": "bar"
           }
          ],
          "barpolar": [
           {
            "marker": {
             "line": {
              "color": "#E5ECF6",
              "width": 0.5
             },
             "pattern": {
              "fillmode": "overlay",
              "size": 10,
              "solidity": 0.2
             }
            },
            "type": "barpolar"
           }
          ],
          "carpet": [
           {
            "aaxis": {
             "endlinecolor": "#2a3f5f",
             "gridcolor": "white",
             "linecolor": "white",
             "minorgridcolor": "white",
             "startlinecolor": "#2a3f5f"
            },
            "baxis": {
             "endlinecolor": "#2a3f5f",
             "gridcolor": "white",
             "linecolor": "white",
             "minorgridcolor": "white",
             "startlinecolor": "#2a3f5f"
            },
            "type": "carpet"
           }
          ],
          "choropleth": [
           {
            "colorbar": {
             "outlinewidth": 0,
             "ticks": ""
            },
            "type": "choropleth"
           }
          ],
          "contour": [
           {
            "colorbar": {
             "outlinewidth": 0,
             "ticks": ""
            },
            "colorscale": [
             [
              0,
              "#0d0887"
             ],
             [
              0.1111111111111111,
              "#46039f"
             ],
             [
              0.2222222222222222,
              "#7201a8"
             ],
             [
              0.3333333333333333,
              "#9c179e"
             ],
             [
              0.4444444444444444,
              "#bd3786"
             ],
             [
              0.5555555555555556,
              "#d8576b"
             ],
             [
              0.6666666666666666,
              "#ed7953"
             ],
             [
              0.7777777777777778,
              "#fb9f3a"
             ],
             [
              0.8888888888888888,
              "#fdca26"
             ],
             [
              1,
              "#f0f921"
             ]
            ],
            "type": "contour"
           }
          ],
          "contourcarpet": [
           {
            "colorbar": {
             "outlinewidth": 0,
             "ticks": ""
            },
            "type": "contourcarpet"
           }
          ],
          "heatmap": [
           {
            "colorbar": {
             "outlinewidth": 0,
             "ticks": ""
            },
            "colorscale": [
             [
              0,
              "#0d0887"
             ],
             [
              0.1111111111111111,
              "#46039f"
             ],
             [
              0.2222222222222222,
              "#7201a8"
             ],
             [
              0.3333333333333333,
              "#9c179e"
             ],
             [
              0.4444444444444444,
              "#bd3786"
             ],
             [
              0.5555555555555556,
              "#d8576b"
             ],
             [
              0.6666666666666666,
              "#ed7953"
             ],
             [
              0.7777777777777778,
              "#fb9f3a"
             ],
             [
              0.8888888888888888,
              "#fdca26"
             ],
             [
              1,
              "#f0f921"
             ]
            ],
            "type": "heatmap"
           }
          ],
          "heatmapgl": [
           {
            "colorbar": {
             "outlinewidth": 0,
             "ticks": ""
            },
            "colorscale": [
             [
              0,
              "#0d0887"
             ],
             [
              0.1111111111111111,
              "#46039f"
             ],
             [
              0.2222222222222222,
              "#7201a8"
             ],
             [
              0.3333333333333333,
              "#9c179e"
             ],
             [
              0.4444444444444444,
              "#bd3786"
             ],
             [
              0.5555555555555556,
              "#d8576b"
             ],
             [
              0.6666666666666666,
              "#ed7953"
             ],
             [
              0.7777777777777778,
              "#fb9f3a"
             ],
             [
              0.8888888888888888,
              "#fdca26"
             ],
             [
              1,
              "#f0f921"
             ]
            ],
            "type": "heatmapgl"
           }
          ],
          "histogram": [
           {
            "marker": {
             "pattern": {
              "fillmode": "overlay",
              "size": 10,
              "solidity": 0.2
             }
            },
            "type": "histogram"
           }
          ],
          "histogram2d": [
           {
            "colorbar": {
             "outlinewidth": 0,
             "ticks": ""
            },
            "colorscale": [
             [
              0,
              "#0d0887"
             ],
             [
              0.1111111111111111,
              "#46039f"
             ],
             [
              0.2222222222222222,
              "#7201a8"
             ],
             [
              0.3333333333333333,
              "#9c179e"
             ],
             [
              0.4444444444444444,
              "#bd3786"
             ],
             [
              0.5555555555555556,
              "#d8576b"
             ],
             [
              0.6666666666666666,
              "#ed7953"
             ],
             [
              0.7777777777777778,
              "#fb9f3a"
             ],
             [
              0.8888888888888888,
              "#fdca26"
             ],
             [
              1,
              "#f0f921"
             ]
            ],
            "type": "histogram2d"
           }
          ],
          "histogram2dcontour": [
           {
            "colorbar": {
             "outlinewidth": 0,
             "ticks": ""
            },
            "colorscale": [
             [
              0,
              "#0d0887"
             ],
             [
              0.1111111111111111,
              "#46039f"
             ],
             [
              0.2222222222222222,
              "#7201a8"
             ],
             [
              0.3333333333333333,
              "#9c179e"
             ],
             [
              0.4444444444444444,
              "#bd3786"
             ],
             [
              0.5555555555555556,
              "#d8576b"
             ],
             [
              0.6666666666666666,
              "#ed7953"
             ],
             [
              0.7777777777777778,
              "#fb9f3a"
             ],
             [
              0.8888888888888888,
              "#fdca26"
             ],
             [
              1,
              "#f0f921"
             ]
            ],
            "type": "histogram2dcontour"
           }
          ],
          "mesh3d": [
           {
            "colorbar": {
             "outlinewidth": 0,
             "ticks": ""
            },
            "type": "mesh3d"
           }
          ],
          "parcoords": [
           {
            "line": {
             "colorbar": {
              "outlinewidth": 0,
              "ticks": ""
             }
            },
            "type": "parcoords"
           }
          ],
          "pie": [
           {
            "automargin": true,
            "type": "pie"
           }
          ],
          "scatter": [
           {
            "fillpattern": {
             "fillmode": "overlay",
             "size": 10,
             "solidity": 0.2
            },
            "type": "scatter"
           }
          ],
          "scatter3d": [
           {
            "line": {
             "colorbar": {
              "outlinewidth": 0,
              "ticks": ""
             }
            },
            "marker": {
             "colorbar": {
              "outlinewidth": 0,
              "ticks": ""
             }
            },
            "type": "scatter3d"
           }
          ],
          "scattercarpet": [
           {
            "marker": {
             "colorbar": {
              "outlinewidth": 0,
              "ticks": ""
             }
            },
            "type": "scattercarpet"
           }
          ],
          "scattergeo": [
           {
            "marker": {
             "colorbar": {
              "outlinewidth": 0,
              "ticks": ""
             }
            },
            "type": "scattergeo"
           }
          ],
          "scattergl": [
           {
            "marker": {
             "colorbar": {
              "outlinewidth": 0,
              "ticks": ""
             }
            },
            "type": "scattergl"
           }
          ],
          "scattermapbox": [
           {
            "marker": {
             "colorbar": {
              "outlinewidth": 0,
              "ticks": ""
             }
            },
            "type": "scattermapbox"
           }
          ],
          "scatterpolar": [
           {
            "marker": {
             "colorbar": {
              "outlinewidth": 0,
              "ticks": ""
             }
            },
            "type": "scatterpolar"
           }
          ],
          "scatterpolargl": [
           {
            "marker": {
             "colorbar": {
              "outlinewidth": 0,
              "ticks": ""
             }
            },
            "type": "scatterpolargl"
           }
          ],
          "scatterternary": [
           {
            "marker": {
             "colorbar": {
              "outlinewidth": 0,
              "ticks": ""
             }
            },
            "type": "scatterternary"
           }
          ],
          "surface": [
           {
            "colorbar": {
             "outlinewidth": 0,
             "ticks": ""
            },
            "colorscale": [
             [
              0,
              "#0d0887"
             ],
             [
              0.1111111111111111,
              "#46039f"
             ],
             [
              0.2222222222222222,
              "#7201a8"
             ],
             [
              0.3333333333333333,
              "#9c179e"
             ],
             [
              0.4444444444444444,
              "#bd3786"
             ],
             [
              0.5555555555555556,
              "#d8576b"
             ],
             [
              0.6666666666666666,
              "#ed7953"
             ],
             [
              0.7777777777777778,
              "#fb9f3a"
             ],
             [
              0.8888888888888888,
              "#fdca26"
             ],
             [
              1,
              "#f0f921"
             ]
            ],
            "type": "surface"
           }
          ],
          "table": [
           {
            "cells": {
             "fill": {
              "color": "#EBF0F8"
             },
             "line": {
              "color": "white"
             }
            },
            "header": {
             "fill": {
              "color": "#C8D4E3"
             },
             "line": {
              "color": "white"
             }
            },
            "type": "table"
           }
          ]
         },
         "layout": {
          "annotationdefaults": {
           "arrowcolor": "#2a3f5f",
           "arrowhead": 0,
           "arrowwidth": 1
          },
          "autotypenumbers": "strict",
          "coloraxis": {
           "colorbar": {
            "outlinewidth": 0,
            "ticks": ""
           }
          },
          "colorscale": {
           "diverging": [
            [
             0,
             "#8e0152"
            ],
            [
             0.1,
             "#c51b7d"
            ],
            [
             0.2,
             "#de77ae"
            ],
            [
             0.3,
             "#f1b6da"
            ],
            [
             0.4,
             "#fde0ef"
            ],
            [
             0.5,
             "#f7f7f7"
            ],
            [
             0.6,
             "#e6f5d0"
            ],
            [
             0.7,
             "#b8e186"
            ],
            [
             0.8,
             "#7fbc41"
            ],
            [
             0.9,
             "#4d9221"
            ],
            [
             1,
             "#276419"
            ]
           ],
           "sequential": [
            [
             0,
             "#0d0887"
            ],
            [
             0.1111111111111111,
             "#46039f"
            ],
            [
             0.2222222222222222,
             "#7201a8"
            ],
            [
             0.3333333333333333,
             "#9c179e"
            ],
            [
             0.4444444444444444,
             "#bd3786"
            ],
            [
             0.5555555555555556,
             "#d8576b"
            ],
            [
             0.6666666666666666,
             "#ed7953"
            ],
            [
             0.7777777777777778,
             "#fb9f3a"
            ],
            [
             0.8888888888888888,
             "#fdca26"
            ],
            [
             1,
             "#f0f921"
            ]
           ],
           "sequentialminus": [
            [
             0,
             "#0d0887"
            ],
            [
             0.1111111111111111,
             "#46039f"
            ],
            [
             0.2222222222222222,
             "#7201a8"
            ],
            [
             0.3333333333333333,
             "#9c179e"
            ],
            [
             0.4444444444444444,
             "#bd3786"
            ],
            [
             0.5555555555555556,
             "#d8576b"
            ],
            [
             0.6666666666666666,
             "#ed7953"
            ],
            [
             0.7777777777777778,
             "#fb9f3a"
            ],
            [
             0.8888888888888888,
             "#fdca26"
            ],
            [
             1,
             "#f0f921"
            ]
           ]
          },
          "colorway": [
           "#636efa",
           "#EF553B",
           "#00cc96",
           "#ab63fa",
           "#FFA15A",
           "#19d3f3",
           "#FF6692",
           "#B6E880",
           "#FF97FF",
           "#FECB52"
          ],
          "font": {
           "color": "#2a3f5f"
          },
          "geo": {
           "bgcolor": "white",
           "lakecolor": "white",
           "landcolor": "#E5ECF6",
           "showlakes": true,
           "showland": true,
           "subunitcolor": "white"
          },
          "hoverlabel": {
           "align": "left"
          },
          "hovermode": "closest",
          "mapbox": {
           "style": "light"
          },
          "paper_bgcolor": "white",
          "plot_bgcolor": "#E5ECF6",
          "polar": {
           "angularaxis": {
            "gridcolor": "white",
            "linecolor": "white",
            "ticks": ""
           },
           "bgcolor": "#E5ECF6",
           "radialaxis": {
            "gridcolor": "white",
            "linecolor": "white",
            "ticks": ""
           }
          },
          "scene": {
           "xaxis": {
            "backgroundcolor": "#E5ECF6",
            "gridcolor": "white",
            "gridwidth": 2,
            "linecolor": "white",
            "showbackground": true,
            "ticks": "",
            "zerolinecolor": "white"
           },
           "yaxis": {
            "backgroundcolor": "#E5ECF6",
            "gridcolor": "white",
            "gridwidth": 2,
            "linecolor": "white",
            "showbackground": true,
            "ticks": "",
            "zerolinecolor": "white"
           },
           "zaxis": {
            "backgroundcolor": "#E5ECF6",
            "gridcolor": "white",
            "gridwidth": 2,
            "linecolor": "white",
            "showbackground": true,
            "ticks": "",
            "zerolinecolor": "white"
           }
          },
          "shapedefaults": {
           "line": {
            "color": "#2a3f5f"
           }
          },
          "ternary": {
           "aaxis": {
            "gridcolor": "white",
            "linecolor": "white",
            "ticks": ""
           },
           "baxis": {
            "gridcolor": "white",
            "linecolor": "white",
            "ticks": ""
           },
           "bgcolor": "#E5ECF6",
           "caxis": {
            "gridcolor": "white",
            "linecolor": "white",
            "ticks": ""
           }
          },
          "title": {
           "x": 0.05
          },
          "xaxis": {
           "automargin": true,
           "gridcolor": "white",
           "linecolor": "white",
           "ticks": "",
           "title": {
            "standoff": 15
           },
           "zerolinecolor": "white",
           "zerolinewidth": 2
          },
          "yaxis": {
           "automargin": true,
           "gridcolor": "white",
           "linecolor": "white",
           "ticks": "",
           "title": {
            "standoff": 15
           },
           "zerolinecolor": "white",
           "zerolinewidth": 2
          }
         }
        },
        "title": {
         "text": "Relationship b/w Storage and Price"
        },
        "xaxis": {
         "anchor": "y",
         "autorange": true,
         "domain": [
          0,
          1
         ],
         "range": [
          -87.33868866970158,
          2493.7886886697015
         ],
         "title": {
          "text": "price_usd"
         },
         "type": "linear"
        },
        "yaxis": {
         "anchor": "x",
         "autorange": true,
         "domain": [
          0,
          1
         ],
         "range": [
          -47.88349514563107,
          1079.883495145631
         ],
         "title": {
          "text": "storage"
         },
         "type": "linear"
        }
       }
      },
      "image/png": "[encoded data removed]",
      "text/html": [
       "<div>                            <div id=\"84b4e46f-c1b2-4dcb-bef4-d62b91b1eb54\" class=\"plotly-graph-div\" style=\"height:525px; width:100%;\"></div>            <script type=\"text/javascript\">                require([\"plotly\"], function(Plotly) {                    window.PLOTLYENV=window.PLOTLYENV || {};                                    if (document.getElementById(\"84b4e46f-c1b2-4dcb-bef4-d62b91b1eb54\")) {                    Plotly.newPlot(                        \"84b4e46f-c1b2-4dcb-bef4-d62b91b1eb54\",                        [{\"hovertemplate\":\"phone_brand=apple\\u003cbr\\u003eprice_usd=%{x}\\u003cbr\\u003estorage=%{y}\\u003cextra\\u003e\\u003c\\u002fextra\\u003e\",\"legendgroup\":\"apple\",\"marker\":{\"color\":\"#636efa\",\"symbol\":\"circle\"},\"mode\":\"markers\",\"name\":\"apple\",\"showlegend\":true,\"x\":[1357.55,1492.55,1705.32,1564.92,247.32,319.68,427.14,467.64,213.85,214.92,268.57,304.87,524.79,626.4,230.96,200.88,291.6,264.6,305.63,303.48,377.32,390.63,422.27,157.68,190.08,325.08,375.84,457.92,481.68,640.0,741.67,681.04,802.97,767.04,861.69,1018.74,840.34,876.94,995.06,243.0,185.76,743.57,828.35,1079.75,1261.82,814.03,995.76,967.24,1059.91,1204.62,1024.92,1165.32,1186.92,1327.32,707.4,732.84,814.11,466.45,538.92,609.99,640.44,749.1,999.99,1099.99,1299.99,1199.99,1399.99,208.0,241.64,342.0,395.0,160.0,187.99,219.28,279.49,410.33,500.0,162.9,172.65,193.0,208.0,239.0,259.9,249.0,285.0,341.96,99.64,130.72,249.99,291.75,357.55,389.99,447.5,530.0,427.99,569.95,603.41,679.05,698.06,686.07,668.95,787.5,999.99,126.49,233.33,525.98,716.99,829.99,929.99,788.95,1056.99,1199.99,1399.99,629.99,726.75,929.99,1029.99,787.49,827.5,989.99,999.99,1099.99,1299.99,829.99,929.99,929.99,1029.99,538.95,590.24,624.4,318.8,433.45,495.98,521.15,662.54,1424.52,1683.76,252.11,293.59,382.38,436.81,185.32,174.99,199.61,256.14,492.52,546.85,190.87,269.6,249.18,246.28,269.99,319.64,329.23,362.87,121.84,151.33,316.27,343.49,419.76,468.89,582.75,614.39,505.52,657.82,712.17,802.35,890.71,810.09,881.07,998.07,230.72,338.31,740.78,843.18,1123.81,1204.17,824.33,842.52,931.97,1022.05,1246.85,1035.66,1165.28,1165.28,1294.9,640.32,659.12,803.58,451.08,484.78,550.17,602.41,681.08],\"xaxis\":\"x\",\"y\":[256,512,1000,512,128,256,256,512,128,256,256,512,256,512,256,256,512,128,256,256,512,256,512,128,256,128,256,256,512,256,512,256,512,256,512,1000,256,512,1000,128,256,256,512,512,1000,256,512,256,512,1000,256,512,256,512,256,512,1000,256,512,256,512,1000,256,512,1000,512,1000,128,256,256,512,128,256,256,512,256,512,256,256,512,128,256,256,512,256,512,128,256,128,256,256,512,256,512,256,512,256,512,1000,256,512,1000,256,128,256,256,512,256,512,512,1000,512,1000,256,512,256,512,256,512,1000,256,512,1000,256,512,256,512,256,512,1000,256,512,256,512,1000,256,512,128,256,256,512,128,256,256,512,256,512,256,512,128,256,256,512,256,512,128,256,128,256,256,512,256,512,256,512,256,512,1000,256,512,1000,128,256,256,512,512,1000,256,512,256,512,1000,256,512,256,512,256,512,1000,256,512,256,512,1000],\"yaxis\":\"y\",\"type\":\"scattergl\"},{\"hovertemplate\":\"phone_brand=asus\\u003cbr\\u003eprice_usd=%{x}\\u003cbr\\u003estorage=%{y}\\u003cextra\\u003e\\u003c\\u002fextra\\u003e\",\"legendgroup\":\"asus\",\"marker\":{\"color\":\"#EF553B\",\"symbol\":\"circle\"},\"mode\":\"markers\",\"name\":\"asus\",\"showlegend\":true,\"x\":[499.71,405.14,445.0,606.11,723.6,603.61,632.87,686.87,762.47,1295.99,808.92,888.0,658.0,659.0,814.0,799.99,1054.0,699.99,697.0,1165.28,716.07,1165.28,822.85,1102.03,857.79,842.52,933.25,1189.78,891.14,1060.28,1096.59],\"xaxis\":\"x\",\"y\":[128,256,256,256,256,512,256,256,512,1000,512,512,256,256,512,256,1000,512,128,128,128,256,256,512,256,256,512,256,1000,512,128],\"yaxis\":\"y\",\"type\":\"scattergl\"},{\"hovertemplate\":\"phone_brand=blackview\\u003cbr\\u003eprice_usd=%{x}\\u003cbr\\u003estorage=%{y}\\u003cextra\\u003e\\u003c\\u002fextra\\u003e\",\"legendgroup\":\"blackview\",\"marker\":{\"color\":\"#00cc96\",\"symbol\":\"circle\"},\"mode\":\"markers\",\"name\":\"blackview\",\"showlegend\":true,\"x\":[246.33,276.61,146.43],\"xaxis\":\"x\",\"y\":[256,256,256],\"yaxis\":\"y\",\"type\":\"scattergl\"},{\"hovertemplate\":\"phone_brand=google\\u003cbr\\u003eprice_usd=%{x}\\u003cbr\\u003estorage=%{y}\\u003cextra\\u003e\\u003c\\u002fextra\\u003e\",\"legendgroup\":\"google\",\"marker\":{\"color\":\"#ab63fa\",\"symbol\":\"circle\"},\"mode\":\"markers\",\"name\":\"google\",\"showlegend\":true,\"x\":[543.97,198.5,162.42,209.87,2042.27,803.27,1098.93,1272.39,1435.32,1037.84,1162.06,1499.98,648.24,756.43,852.29,456.56,1273.56,298.37,369.88,398.6,456.78,322.92,374.94,121.99,599.99,107.99,199.08,1799.0,754.99,1082.97,1059.89,1199.0,1319.0,459.95,494.95,609.99,999.0,1059.0,1179.0,332.0,617.99,204.95,269.99,298.31,360.0,899.0,999.0,245.5,452.37,197.66,125.73,207.38,2267.05,1035.66,1294.9,1424.52,1580.07,1424.52,1540.72,1709.69,580.7,750.5,395.34,946.21,219.06,335.7,358.83,421.2,283.83],\"xaxis\":\"x\",\"y\":[256,128,128,256,512,256,256,512,1000,256,512,1000,256,512,1000,256,512,256,512,256,512,256,256,128,128,128,256,512,256,256,256,512,1000,256,512,1000,256,512,1000,256,512,256,512,256,512,256,512,256,256,128,128,256,512,256,256,512,1000,256,512,1000,256,512,256,512,256,512,256,512,256],\"yaxis\":\"y\",\"type\":\"scattergl\"},{\"hovertemplate\":\"phone_brand=honor\\u003cbr\\u003eprice_usd=%{x}\\u003cbr\\u003estorage=%{y}\\u003cextra\\u003e\\u003c\\u002fextra\\u003e\",\"legendgroup\":\"honor\",\"marker\":{\"color\":\"#FFA15A\",\"symbol\":\"circle\"},\"mode\":\"markers\",\"name\":\"honor\",\"showlegend\":true,\"x\":[227.86,230.39,192.23,248.39,156.14,647.99,172.8,315.89,151.09,261.28,210.03,860.12,572.29,517.32,669.59,2115.72,1258.52,185.9,620.0,329.99,370.0,999.0,999.0,405.0,490.0,189.99,289.99,349.0,845.0,1148.5,369.5,355.56,302.31,127.66,777.07,335.72,181.46,167.21,572.6,2189.28,1292.78,440.7,759.0,175.0,177.9,179.1,1459.0],\"xaxis\":\"x\",\"y\":[256,256,128,256,128,256,128,512,128,256,256,512,256,512,512,512,512,128,256,256,128,256,512,128,512,128,256,128,512,512,128,256,256,128,256,512,128,256,256,512,512,512,256,128,256,256,512],\"yaxis\":\"y\",\"type\":\"scattergl\"},{\"hovertemplate\":\"phone_brand=huawei\\u003cbr\\u003eprice_usd=%{x}\\u003cbr\\u003estorage=%{y}\\u003cextra\\u003e\\u003c\\u002fextra\\u003e\",\"legendgroup\":\"huawei\",\"marker\":{\"color\":\"#19d3f3\",\"symbol\":\"circle\"},\"mode\":\"markers\",\"name\":\"huawei\",\"showlegend\":true,\"x\":[805.67,239.84,1143.72,186.27,123.67,161.22,662.84,205.19,434.15,215.99,2353.82,215.95,394.19,1381.58,991.49,270.0,1290.0,699.99,179.99,187.29,609.21,255.56,745.32,581.99,1365.27,139.52,486.39,806.99,310.4,1440.0,1300.0,899.99],\"xaxis\":\"x\",\"y\":[512,128,512,256,128,256,512,128,256,128,512,256,256,1000,512,128,512,512,128,128,256,128,512,256,512,128,512,512,256,1000,512,1000],\"yaxis\":\"y\",\"type\":\"scattergl\"},{\"hovertemplate\":\"phone_brand=motorola\\u003cbr\\u003eprice_usd=%{x}\\u003cbr\\u003estorage=%{y}\\u003cextra\\u003e\\u003c\\u002fextra\\u003e\",\"legendgroup\":\"motorola\",\"marker\":{\"color\":\"#FF6692\",\"symbol\":\"circle\"},\"mode\":\"markers\",\"name\":\"motorola\",\"showlegend\":true,\"x\":[151.19,99.4,215.46,159.29,214.68,534.63,136.29,135.9,106.73,125.33,175.74,92.87,571.04,184.74,199.79,790.56,233.02,1167.12,123.11,128.51,182.62,302.39,139.08,173.22,185.75,129.59,125.81,309.95,91.04,151.41,629.74,477.49,362.89,626.86,193.32,268.92,497.73,1078.92,916.92,273.35,892.12,376.92,631.79,544.83,117.15,137.42,99.42,160.0,265.0,295.0,359.95,375.0,84.98,370.99,190.0,68.0,84.74,64.95,189.99,84.95,249.99,299.99,495.0,147.99,399.99,999.0,229.99,999.99,425.0,390.0,160.99,189.0,59.98,99.5,60.0,775.0,179.99,184.5,990.0,990.0,264.95,95.0,345.0,410.0,99.99,239.99,268.0,299.0,234.11,489.99,99.0,129.99,309.95,312.99,359.99,168.0,399.99,79.95,169.99,266.56,212.31,399.99,450.0,699.0,129.0,150.35,141.29,167.21,531.44,199.61,136.1,517.18,116.65,815.18,194.42,426.45,1160.1,374.6,145.16,304.1,464.69,88.52,116.59,168.38,116.65,192.81,316.77,88.78,180.17,627.36,549.59,329.13,1676.84,259.23,518.47,1042.38,714.75,302.7,1014.5,282.77,635.13,175.51],\"xaxis\":\"x\",\"y\":[128,64,128,256,128,256,128,128,64,128,128,64,256,128,256,256,256,256,128,128,128,256,128,128,256,128,128,256,256,256,256,256,256,512,128,256,512,256,512,256,512,256,256,512,128,128,128,128,64,128,128,256,256,128,128,128,128,64,64,128,256,128,128,256,256,256,256,256,128,128,64,128,128,128,64,256,128,256,256,256,256,128,128,128,256,256,128,128,256,256,256,256,256,256,256,256,256,128,128,256,256,256,256,256,128,128,128,128,128,256,128,128,128,256,128,256,256,256,128,128,128,128,128,128,256,256,256,256,256,256,256,256,512,256,512,256,512,256,512,256,256,128],\"yaxis\":\"y\",\"type\":\"scattergl\"},{\"hovertemplate\":\"phone_brand=nokia\\u003cbr\\u003eprice_usd=%{x}\\u003cbr\\u003estorage=%{y}\\u003cextra\\u003e\\u003c\\u002fextra\\u003e\",\"legendgroup\":\"nokia\",\"marker\":{\"color\":\"#B6E880\",\"symbol\":\"circle\"},\"mode\":\"markers\",\"name\":\"nokia\",\"showlegend\":true,\"x\":[269.22,204.11,161.99,117.19,97.53,118.79,296.06,142.93,269.92,323.84,131.76,275.19,111.22,103.66,97.97,183.49,96.26,112.15,399.0,240.01,110.26,125.73,529.0,56.87,169.99,400.0,299.99,190.16,490.0,255.0,233.0,159.99,219.99,257.94,168.48,98.51,96.55,229.43,154.25,165.77,110.14,265.71,73.88,85.81,102.4,90.73,142.57,279.89,115.09,291.4,241.3,162.0],\"xaxis\":\"x\",\"y\":[128,128,256,64,64,128,256,32,128,128,128,128,32,64,32,64,64,128,128,128,64,128,256,128,128,128,128,128,128,64,32,64,128,128,128,64,128,256,128,128,128,128,32,64,32,64,128,256,32,128,128,64],\"yaxis\":\"y\",\"type\":\"scattergl\"},{\"hovertemplate\":\"phone_brand=nothing\\u003cbr\\u003eprice_usd=%{x}\\u003cbr\\u003estorage=%{y}\\u003cextra\\u003e\\u003c\\u002fextra\\u003e\",\"legendgroup\":\"nothing\",\"marker\":{\"color\":\"#FF97FF\",\"symbol\":\"circle\"},\"mode\":\"markers\",\"name\":\"nothing\",\"showlegend\":true,\"x\":[258.12,350.74,463.32,330.47,301.17,381.63,562.57,648.85,349.99,529.0,349.5,590.0,634.5,270.91,515.87,385.35,251.61,374.6,741.43,645.82],\"xaxis\":\"x\",\"y\":[128,256,256,256,256,256,256,512,256,256,256,256,512,128,256,256,256,256,256,512],\"yaxis\":\"y\",\"type\":\"scattergl\"},{\"hovertemplate\":\"phone_brand=oneplus\\u003cbr\\u003eprice_usd=%{x}\\u003cbr\\u003estorage=%{y}\\u003cextra\\u003e\\u003c\\u002fextra\\u003e\",\"legendgroup\":\"oneplus\",\"marker\":{\"color\":\"#FECB52\",\"symbol\":\"circle\"},\"mode\":\"markers\",\"name\":\"oneplus\",\"showlegend\":true,\"x\":[482.76,280.79,439.5,622.08,168.36,259.19,154.44,279.72,410.39,248.39,305.62,189.55,603.5,909.51,172.79,212.99,357.87,272.45,680.39,432.67,628.51,210.01,221.77,136.98,296.45,203.14,495.0,149.99,359.99,239.95,750.0,199.99,129.9,185.0,405.0,419.99,219.95,429.99,499.99,649.99,799.99,199.99,259.94,599.99,595.0,553.91,425.0,235.0,167.62,897.0,499.95,550.0,556.07,278.67,435.56,863.11,193.13,193.13,159.43,241.09,480.2,362.61,311.02,644.21,970.85,159.43,254.04,543.11,269.91,734.76,590.65,744.47,272.2,219.06,375.83,291.63,414.78],\"xaxis\":\"x\",\"y\":[512,256,256,256,128,128,256,128,256,128,256,256,256,512,128,256,256,256,256,256,256,256,256,256,256,256,256,128,256,256,256,128,256,128,256,256,256,256,256,512,512,128,256,256,256,256,256,256,256,128,256,256,512,256,256,256,128,128,256,128,256,128,256,256,512,128,256,256,256,256,256,256,256,256,256,256,256],\"yaxis\":\"y\",\"type\":\"scattergl\"},{\"hovertemplate\":\"phone_brand=oppo\\u003cbr\\u003eprice_usd=%{x}\\u003cbr\\u003estorage=%{y}\\u003cextra\\u003e\\u003c\\u002fextra\\u003e\",\"legendgroup\":\"oppo\",\"marker\":{\"color\":\"#636efa\",\"symbol\":\"circle\"},\"mode\":\"markers\",\"name\":\"oppo\",\"showlegend\":true,\"x\":[264.59,90.9,156.59,183.59,135.48,633.99,168.92,144.71,361.56,255.72,232.19,409.19,259.19,529.99,755.99,253.04,183.59,329.9,326.2,215.95,293.0,350.0,179.99,441.0,539.0,359.25,495.0,1070.0,530.0,372.72,620.0,849.0,428.36,660.0,405.0,129.61,129.61,142.71,155.4,129.62,661.05,110.18,142.58,244.98,402.86,167.14,258.27,291.64,246.27,518.48,330.53,282.57,150.36,305.89,208.69,348.68,239.51],\"xaxis\":\"x\",\"y\":[256,64,256,128,128,512,64,128,256,256,128,256,256,256,512,256,128,256,256,256,256,64,128,128,512,256,128,256,256,256,256,512,256,256,32,64,256,128,128,128,512,64,128,256,256,256,128,256,256,512,256,256,128,256,256,256,256],\"yaxis\":\"y\",\"type\":\"scattergl\"},{\"hovertemplate\":\"phone_brand=realme\\u003cbr\\u003eprice_usd=%{x}\\u003cbr\\u003estorage=%{y}\\u003cextra\\u003e\\u003c\\u002fextra\\u003e\",\"legendgroup\":\"realme\",\"marker\":{\"color\":\"#EF553B\",\"symbol\":\"circle\"},\"mode\":\"markers\",\"name\":\"realme\",\"showlegend\":true,\"x\":[102.59,247.32,313.64,286.2,156.6,441.72,308.87,161.98,107.99,410.39,77.38,518.39,637.19,224.06,161.99,259.19,160.92,463.13,121.24,399.59,124.19,257.03,259.19,118.01,241.41,361.68,471.41,143.52,539.0,199.99,534.98,540.0,215.0,655.0,266.12,279.0,209.75,179.99,109.0,90.0,249.99,361.0,275.0,159.99,153.34,324.59,586.83,164.28,480.53,98.56,417.51,89.09,128.57,245.38,314.72,269.61,168.49,552.53,571.96,412.37,220.41,201.38,121.27,162.05,134.53,220.8,122.63],\"xaxis\":\"x\",\"y\":[32,256,128,256,128,256,256,256,128,512,128,128,256,128,128,128,64,256,128,256,128,128,128,256,256,256,256,256,128,128,256,256,128,128,64,128,128,128,64,128,128,128,256,256,128,128,256,128,256,128,512,128,64,128,128,128,64,256,256,256,256,256,256,256,64,256,256],\"yaxis\":\"y\",\"type\":\"scattergl\"},{\"hovertemplate\":\"phone_brand=samsung\\u003cbr\\u003eprice_usd=%{x}\\u003cbr\\u003estorage=%{y}\\u003cextra\\u003e\\u003c\\u002fextra\\u003e\",\"legendgroup\":\"samsung\",\"marker\":{\"color\":\"#00cc96\",\"symbol\":\"circle\"},\"mode\":\"markers\",\"name\":\"samsung\",\"showlegend\":true,\"x\":[202.05,165.56,323.99,313.19,289.98,367.77,474.12,140.39,136.46,127.27,301.32,333.76,423.07,139.73,376.92,291.59,345.59,143.64,239.74,193.31,172.18,265.25,125.24,149.04,189.91,475.2,455.61,544.31,592.92,117.71,118.69,206.43,319.0,445.62,254.06,199.8,139.96,201.42,183.88,206.27,245.17,422.28,459.0,934.2,853.16,421.19,271.17,550.8,210.95,131.44,146.97,214.41,199.32,1100.52,1239.84,863.63,265.59,312.08,344.52,379.03,353.14,668.52,755.89,249.48,729.01,160.37,1274.29,1476.36,808.92,873.72,203.81,183.46,97.2,152.92,535.68,700.34,150.12,201.83,863.99,236.47,808.92,949.55,307.8,361.8,1238.76,971.94,521.56,119.06,140.42,793.36,442.79,113.76,108.0,139.63,151.09,259.09,316.44,352.08,508.56,548.85,755.99,196.88,145.8,124.37,140.39,383.39,538.92,193.32,193.32,119.87,463.9,729.0,505.16,347.76,429.83,604.79,132.6,168.31,320.76,171.23,540.0,343.43,288.08,266.59,397.43,464.39,238.29,184.28,131.58,122.64,119.99,479.97,129.99,219.95,449.99,150.0,499.0,99.0,219.22,148.44,278.0,159.07,169.79,121.77,144.5,130.0,169.99,259.0,170.0,485.99,489.0,68.49,130.0,159.99,274.0,999.99,829.99,147.99,174.99,360.99,384.95,394.95,829.0,929.0,87.0,104.0,114.99,134.09,183.7,219.99,389.0,499.99,299.99,79.0,599.0,100.0,299.99,351.0,235.0,899.99,809.99,999.99,1059.99,69.5,848.0,629.77,1599.99,1719.99,1799.99,1919.99,399.95,1799.99,399.99,119.99,128.99,134.99,729.95,898.94,1049.99,1219.99,1219.99,569.95,999.99,249.99,248.87,399.99,299.99,311.5,469.98,614.5,719.99,779.99,859.99,1099.99,1099.99,1899.99,1899.99,1899.99,2019.99,125.0,649.99,709.99,649.99,709.99,159.95,299.99,199.99,139.0,132.0,129.99,354.9,473.5,759.99,699.99,859.99,59.95,125.0,199.99,199.99,469.66,999.99,999.99,245.0,635.5,669.99,692.0,759.99,178.0,235.95,187.49,1375.0,880.0,1799.99,1919.99,1799.99,414.99,999.99,999.99,89.99,89.99,99.99,349.99,269.99,599.99,499.99,83.0,64.57,365.99,78.0,119.99,149.99,187.15,203.07,679.0,899.99,255.45,342.64,1499.0,73.7,144.0,180.0,66.43,231.74,106.83,151.08,224.95,314.18,650.0,779.46,244.95,999.99,124.99,196.0,270.0,409.98,140.83,311.78,139.7,249.99,160.24,789.99,789.99,192.5,130.0,132.15,194.42,179.51,300.45,191.84,257.94,117.95,129.61,972.14,412.19,162.01,239.78,159.43,127.66,401.81,174.99,362.94,387.56,281.28,103.03,167.2,278.67,246.27,414.72,531.44,576.81,180.17,102.33,212.58,485.97,232.02,285.15,285.1,149.05,168.49,216.71,233.3,187.95,300.72,330.53,646.8,725.87,416.66,490.94,167.21,99.81,102.32,158.12,189.23,998.04,1178.25,944.86,222.95,272.19,329.23,622.21,368.81,667.53,777.71,939.74,174.97,1814.67,2020.78,841.23,906.04,187.94,193.26,115.36,141.93,407.64,479.58,119.25,173.68,173.69,547.0,206.1,261.82,829.5,1296.19,884.7,230.53,276.09,887.88,880.12,552.83,109.27,122.36,129.62,427.68,98.5,136.1,200.91,246.27,127.03,246.28,233.25,361.6,330.52,103.68,95.92,155.54,116.66,306.58,181.46,245.62,155.48,224.24,154.25,907.33,432.93,312.38,491.26,194.42,185.36,178.88,648.09,298.11,136.1,289.05,602.73,581.99,155.53,426.45,181.46],\"xaxis\":\"x\",\"y\":[128,128,128,128,256,128,256,32,64,64,128,256,512,128,128,128,256,128,256,512,128,512,32,32,64,256,256,512,1000,32,64,128,128,128,128,128,128,32,64,64,128,256,512,512,1000,128,256,512,128,32,128,128,256,512,1000,512,128,256,256,256,256,256,512,256,512,128,512,1000,256,512,256,128,128,128,256,512,128,128,512,256,512,1000,128,256,512,1000,512,128,128,256,256,32,128,128,32,32,256,256,256,512,512,32,64,128,32,256,512,128,128,64,256,256,256,256,128,256,128,128,128,128,256,128,256,128,128,256,128,32,32,128,128,256,128,256,256,128,256,32,64,128,512,128,128,128,256,128,128,512,128,512,1000,32,32,32,256,256,256,64,128,256,512,1000,256,512,32,64,128,128,128,256,256,128,128,128,128,64,64,256,512,256,512,256,512,128,512,1000,512,1000,512,1000,512,512,128,32,128,128,512,1000,512,1000,512,512,512,128,256,128,256,256,256,512,256,512,256,512,512,512,1000,512,1000,128,256,512,256,512,256,256,128,128,256,128,256,512,256,256,512,128,128,128,128,512,512,512,128,256,512,1000,256,128,256,128,512,1000,512,1000,512,512,512,512,128,128,128,256,256,256,256,32,128,128,32,32,32,256,256,256,256,256,512,512,32,64,128,32,256,128,128,256,256,256,512,256,256,32,128,256,512,128,128,128,128,128,128,256,32,32,128,128,128,256,128,256,32,64,64,512,128,128,128,128,256,512,128,512,128,32,32,256,64,256,512,1000,32,64,128,128,128,128,128,128,128,32,64,128,256,512,512,1000,128,512,128,32,64,128,128,512,1000,512,128,256,256,256,256,256,512,512,128,512,1000,256,512,256,128,128,128,256,512,128,128,128,512,128,256,256,512,1000,128,256,512,1000,512,128,128,128,256,32,128,128,128,32,256,256,256,512,32,64,128,32,256,128,128,128,64,128,256,256,256,128,128,128,128,256,128,128,128,256,128,32,64,32],\"yaxis\":\"y\",\"type\":\"scattergl\"},{\"hovertemplate\":\"phone_brand=sony\\u003cbr\\u003eprice_usd=%{x}\\u003cbr\\u003estorage=%{y}\\u003cextra\\u003e\\u003c\\u002fextra\\u003e\",\"legendgroup\":\"sony\",\"marker\":{\"color\":\"#ab63fa\",\"symbol\":\"circle\"},\"mode\":\"markers\",\"name\":\"sony\",\"showlegend\":true,\"x\":[1131.84,645.27,1049.81,754.92,208.76,453.06,489.83,975.0,749.0,639.95,1399.99,839.0,329.99,629.95,689.0,550.0,904.0,1372.68,877.53,1043.44,711.61,283.87,326.51,427.68],\"xaxis\":\"x\",\"y\":[512,512,512,256,256,256,512,512,256,512,512,512,128,256,256,256,512,512,512,512,256,256,256,512],\"yaxis\":\"y\",\"type\":\"scattergl\"},{\"hovertemplate\":\"phone_brand=tcl\\u003cbr\\u003eprice_usd=%{x}\\u003cbr\\u003estorage=%{y}\\u003cextra\\u003e\\u003c\\u002fextra\\u003e\",\"legendgroup\":\"tcl\",\"marker\":{\"color\":\"#FFA15A\",\"symbol\":\"circle\"},\"mode\":\"markers\",\"name\":\"tcl\",\"showlegend\":true,\"x\":[92.56,250.37,90.72,212.42],\"xaxis\":\"x\",\"y\":[256,256,256,256],\"yaxis\":\"y\",\"type\":\"scattergl\"},{\"hovertemplate\":\"phone_brand=tecno\\u003cbr\\u003eprice_usd=%{x}\\u003cbr\\u003estorage=%{y}\\u003cextra\\u003e\\u003c\\u002fextra\\u003e\",\"legendgroup\":\"tecno\",\"marker\":{\"color\":\"#19d3f3\",\"symbol\":\"circle\"},\"mode\":\"markers\",\"name\":\"tecno\",\"showlegend\":true,\"x\":[496.78,124.14,118.57,172.78,157.62],\"xaxis\":\"x\",\"y\":[256,128,64,256,128],\"yaxis\":\"y\",\"type\":\"scattergl\"},{\"hovertemplate\":\"phone_brand=vivo\\u003cbr\\u003eprice_usd=%{x}\\u003cbr\\u003estorage=%{y}\\u003cextra\\u003e\\u003c\\u002fextra\\u003e\",\"legendgroup\":\"vivo\",\"marker\":{\"color\":\"#FF6692\",\"symbol\":\"circle\"},\"mode\":\"markers\",\"name\":\"vivo\",\"showlegend\":true,\"x\":[520.11,732.18,142.61,523.32,752.75,888.88,69.3,649.59,596.99,759.99,584.79,591.99],\"xaxis\":\"x\",\"y\":[256,512,256,256,256,256,128,512,1000,256,256,512],\"yaxis\":\"y\",\"type\":\"scattergl\"},{\"hovertemplate\":\"phone_brand=xiaomi\\u003cbr\\u003eprice_usd=%{x}\\u003cbr\\u003estorage=%{y}\\u003cextra\\u003e\\u003c\\u002fextra\\u003e\",\"legendgroup\":\"xiaomi\",\"marker\":{\"color\":\"#B6E880\",\"symbol\":\"circle\"},\"mode\":\"markers\",\"name\":\"xiaomi\",\"showlegend\":true,\"x\":[196.81,172.79,91.79,104.94,121.6,127.43,152.28,529.19,525.73,204.12,255.54,236.52,430.92,390.95,77.75,116.63,172.79,145.79,170.63,209.19,196.99,355.32,113.66,162.53,212.19,152.47,102.44,80.99,376.92,677.83,1056.22,302.39,240.68,107.99,170.12,228.92,167.39,168.48,204.11,89.22,104.66,144.03,160.92,215.98,377.99,138.15,151.19,194.39,233.15,389.58,209.51,116.1,245.13,285.76,148.05,215.99,116.64,389.58,447.2,467.64,340.2,752.25,1164.24,78.31,106.92,129.49,135.0,701.89,825.55,150.12,213.35,307.08,213.55,161.99,588.39,431.99,111.24,156.59,289.43,199.09,257.03,496.79,1460.38,278.64,339.12,363.95,152.45,174.86,235.42,250.56,214.89,265.37,186.3,114.88,132.82,119.88,116.63,120.84,139.61,126.06,118.12,118.79,309.74,345.59,197.01,91.25,110.69,186.83,66.36,118.79,129.59,140.39,215.99,161.99,268.92,109.07,198.04,170.41,269.99,259.65,131.75,174.85,212.75,237.59,207.77,102.59,194.03,302.29,166.31,172.79,104.75,107.99,215.89,167.39,180.05,169.89,161.99,270.0,137.15,149.58,188.99,143.63,168.78,95.04,161.14,196.99,214.42,113.4,129.59,274.32,197.63,208.32,194.4,81.76,122.53,144.99,209.99,419.41,220.0,284.45,209.5,169.99,164.99,159.99,179.99,160.0,154.5,189.9,59.5,340.0,229.0,213.99,159.99,170.0,242.5,149.5,199.99,224.99,199.0,229.0,138.73,152.41,322.0,374.3,84.99,129.99,199.99,230.0,104.0,469.99,481.49,364.89,91.0,849.5,1075.0,84.5,94.0,159.0,167.25,213.0,262.5,490.04,459.99,139.99,155.25,1349.0,1178.0,300.0,269.99,144.99,539.99,1199.0,529.0,275.7,329.05,133.7,169.99,242.99,252.99,187.5,212.5,282.5,321.99,187.5,119.0,132.27,137.16,139.99,119.99,118.79,85.99,146.65,139.99,160.0,152.99,179.99,299.99,249.99,290.0,161.0,189.99,228.0,189.99,160.0,170.0,129.99,159.99,139.99,204.99,79.7,158.95,453.67,259.24,369.18,99.39,183.22,168.51,180.3,413.49,125.77,150.96,63.51,71.28,443.84,989.84,373.79,168.51,311.37,223.61,159.59,159.29,157.77,329.55,357.73,548.44,434.21,227.53,305.86,189.15,518.47,501.43,533.63,361.68,973.28,1340.1,142.57,147.43,938.6,906.04,270.8,327.94,318.87,504.22,126.9,461.42,343.7,641.62,545.69,330.52,541.75,581.99,177.58,365.52,824.38,174.99,326.2,333.46,387.56,232.02,141.53,170.79,129.41,111.33,112.73,311.08,168.49,362.94,128.69,447.19,332.45,389.35,487.49,84.24,101.09,163.27,181.47,101.74,254.86,139.08,150.24,452.37,129.61,320.2,116.65,281.68,174.97,349.83,224.54,159.98,281.94,217.76,139.99,184.22,174.97,324.05,177.22,243.52,180.83,219.06,280.07,146.83,143.88,174.7,152.73,185.62,155.54,193.42,316.27,330.4,116.65,129.61,259.23,207.38,556.07,174.97,190.53,251.73,84.0,399.0,137.36,176.33,107.0,205.0,119.21,195.0,154.0,89.91,69.63,92.98,249.29,127.0,93.52,75.0,144.6,295.0,249.29,108.37,111.25,153.49,161.07,159.0,154.69,1999.0,262.05,200.0,436.99,119.0,1305.0,189.0,899.0,219.72,218.27,289.12,169.0,235.37,228.0,755.0,111.0,369.0,342.77,174.49,82.24,105.0,158.09,125.99,85.5,64.8,86.25,52.63,71.1,66.11,125.56,139.5,156.0,145.35,161.0,266.66],\"xaxis\":\"x\",\"y\":[128,128,64,64,128,128,128,256,256,128,256,256,256,256,32,128,128,128,128,256,128,256,128,128,128,256,32,64,256,256,256,256,256,128,256,256,128,256,256,32,64,128,128,128,256,128,128,256,256,256,256,64,128,128,128,128,64,256,512,1000,512,512,512,128,128,256,256,512,512,128,128,256,512,128,256,512,128,256,256,128,256,512,1000,512,512,512,128,256,256,512,256,512,512,128,256,256,128,128,128,64,128,128,256,256,256,32,64,128,32,64,128,128,128,256,128,128,128,128,128,128,128,128,128,128,256,128,128,128,128,128,128,128,128,128,128,128,128,128,64,128,128,128,128,128,64,128,256,128,128,256,256,128,256,64,64,128,128,256,128,256,256,128,128,128,128,128,128,128,64,256,256,256,128,256,256,128,256,128,128,256,128,128,256,256,64,128,128,128,64,512,1000,512,128,512,512,128,128,256,256,256,512,256,512,128,256,512,512,256,128,256,512,1000,256,512,512,128,256,256,512,256,256,256,512,512,128,256,256,128,32,64,64,64,128,64,128,128,128,128,128,128,128,128,128,128,128,64,128,128,128,64,128,256,128,256,32,128,128,128,256,128,128,32,64,256,256,256,128,256,128,128,128,128,256,256,256,128,128,128,64,256,512,1000,512,512,512,256,256,512,512,128,256,512,256,128,256,128,512,256,512,512,512,256,256,512,256,256,256,512,512,128,256,256,128,128,128,64,128,128,128,256,256,256,32,64,64,128,32,64,128,128,128,64,256,128,128,128,128,128,128,256,128,128,128,128,128,128,128,128,128,128,64,128,128,128,128,128,64,128,256,128,128,256,256,128,256,256,128,64,256,128,128,256,128,128,128,128,32,64,32,256,128,32,64,128,256,128,32,64,256,128,256,256,512,256,512,256,128,512,128,512,256,256,256,128,256,512,256,256,256,512,512,128,256,128,64,128,32,32,64,128,64,128,128,128,128,128,128],\"yaxis\":\"y\",\"type\":\"scattergl\"},{\"hovertemplate\":\"phone_brand=zte\\u003cbr\\u003eprice_usd=%{x}\\u003cbr\\u003estorage=%{y}\\u003cextra\\u003e\\u003c\\u002fextra\\u003e\",\"legendgroup\":\"zte\",\"marker\":{\"color\":\"#FF97FF\",\"symbol\":\"circle\"},\"mode\":\"markers\",\"name\":\"zte\",\"showlegend\":true,\"x\":[115.55,539.99,547.53,127.43,808.92,749.0,579.39,758.26,841.23,676.62,854.2,1165.28,515.0],\"xaxis\":\"x\",\"y\":[256,256,1000,256,512,512,256,256,512,1000,512,256,128],\"yaxis\":\"y\",\"type\":\"scattergl\"},{\"hovertemplate\":\"phone_brand=htc\\u003cbr\\u003eprice_usd=%{x}\\u003cbr\\u003estorage=%{y}\\u003cextra\\u003e\\u003c\\u002fextra\\u003e\",\"legendgroup\":\"htc\",\"marker\":{\"color\":\"#FECB52\",\"symbol\":\"circle\"},\"mode\":\"markers\",\"name\":\"htc\",\"showlegend\":true,\"x\":[399.0],\"xaxis\":\"x\",\"y\":[256],\"yaxis\":\"y\",\"type\":\"scattergl\"},{\"hovertemplate\":\"phone_brand=cubot\\u003cbr\\u003eprice_usd=%{x}\\u003cbr\\u003estorage=%{y}\\u003cextra\\u003e\\u003c\\u002fextra\\u003e\",\"legendgroup\":\"cubot\",\"marker\":{\"color\":\"#636efa\",\"symbol\":\"circle\"},\"mode\":\"markers\",\"name\":\"cubot\",\"showlegend\":true,\"x\":[208.79],\"xaxis\":\"x\",\"y\":[512],\"yaxis\":\"y\",\"type\":\"scattergl\"},{\"hovertemplate\":\"phone_brand=infinix\\u003cbr\\u003eprice_usd=%{x}\\u003cbr\\u003estorage=%{y}\\u003cextra\\u003e\\u003c\\u002fextra\\u003e\",\"legendgroup\":\"infinix\",\"marker\":{\"color\":\"#EF553B\",\"symbol\":\"circle\"},\"mode\":\"markers\",\"name\":\"infinix\",\"showlegend\":true,\"x\":[92.5,102.13],\"xaxis\":\"x\",\"y\":[128,128],\"yaxis\":\"y\",\"type\":\"scattergl\"}],                        {\"template\":{\"data\":{\"histogram2dcontour\":[{\"type\":\"histogram2dcontour\",\"colorbar\":{\"outlinewidth\":0,\"ticks\":\"\"},\"colorscale\":[[0.0,\"#0d0887\"],[0.1111111111111111,\"#46039f\"],[0.2222222222222222,\"#7201a8\"],[0.3333333333333333,\"#9c179e\"],[0.4444444444444444,\"#bd3786\"],[0.5555555555555556,\"#d8576b\"],[0.6666666666666666,\"#ed7953\"],[0.7777777777777778,\"#fb9f3a\"],[0.8888888888888888,\"#fdca26\"],[1.0,\"#f0f921\"]]}],\"choropleth\":[{\"type\":\"choropleth\",\"colorbar\":{\"outlinewidth\":0,\"ticks\":\"\"}}],\"histogram2d\":[{\"type\":\"histogram2d\",\"colorbar\":{\"outlinewidth\":0,\"ticks\":\"\"},\"colorscale\":[[0.0,\"#0d0887\"],[0.1111111111111111,\"#46039f\"],[0.2222222222222222,\"#7201a8\"],[0.3333333333333333,\"#9c179e\"],[0.4444444444444444,\"#bd3786\"],[0.5555555555555556,\"#d8576b\"],[0.6666666666666666,\"#ed7953\"],[0.7777777777777778,\"#fb9f3a\"],[0.8888888888888888,\"#fdca26\"],[1.0,\"#f0f921\"]]}],\"heatmap\":[{\"type\":\"heatmap\",\"colorbar\":{\"outlinewidth\":0,\"ticks\":\"\"},\"colorscale\":[[0.0,\"#0d0887\"],[0.1111111111111111,\"#46039f\"],[0.2222222222222222,\"#7201a8\"],[0.3333333333333333,\"#9c179e\"],[0.4444444444444444,\"#bd3786\"],[0.5555555555555556,\"#d8576b\"],[0.6666666666666666,\"#ed7953\"],[0.7777777777777778,\"#fb9f3a\"],[0.8888888888888888,\"#fdca26\"],[1.0,\"#f0f921\"]]}],\"heatmapgl\":[{\"type\":\"heatmapgl\",\"colorbar\":{\"outlinewidth\":0,\"ticks\":\"\"},\"colorscale\":[[0.0,\"#0d0887\"],[0.1111111111111111,\"#46039f\"],[0.2222222222222222,\"#7201a8\"],[0.3333333333333333,\"#9c179e\"],[0.4444444444444444,\"#bd3786\"],[0.5555555555555556,\"#d8576b\"],[0.6666666666666666,\"#ed7953\"],[0.7777777777777778,\"#fb9f3a\"],[0.8888888888888888,\"#fdca26\"],[1.0,\"#f0f921\"]]}],\"contourcarpet\":[{\"type\":\"contourcarpet\",\"colorbar\":{\"outlinewidth\":0,\"ticks\":\"\"}}],\"contour\":[{\"type\":\"contour\",\"colorbar\":{\"outlinewidth\":0,\"ticks\":\"\"},\"colorscale\":[[0.0,\"#0d0887\"],[0.1111111111111111,\"#46039f\"],[0.2222222222222222,\"#7201a8\"],[0.3333333333333333,\"#9c179e\"],[0.4444444444444444,\"#bd3786\"],[0.5555555555555556,\"#d8576b\"],[0.6666666666666666,\"#ed7953\"],[0.7777777777777778,\"#fb9f3a\"],[0.8888888888888888,\"#fdca26\"],[1.0,\"#f0f921\"]]}],\"surface\":[{\"type\":\"surface\",\"colorbar\":{\"outlinewidth\":0,\"ticks\":\"\"},\"colorscale\":[[0.0,\"#0d0887\"],[0.1111111111111111,\"#46039f\"],[0.2222222222222222,\"#7201a8\"],[0.3333333333333333,\"#9c179e\"],[0.4444444444444444,\"#bd3786\"],[0.5555555555555556,\"#d8576b\"],[0.6666666666666666,\"#ed7953\"],[0.7777777777777778,\"#fb9f3a\"],[0.8888888888888888,\"#fdca26\"],[1.0,\"#f0f921\"]]}],\"mesh3d\":[{\"type\":\"mesh3d\",\"colorbar\":{\"outlinewidth\":0,\"ticks\":\"\"}}],\"scatter\":[{\"fillpattern\":{\"fillmode\":\"overlay\",\"size\":10,\"solidity\":0.2},\"type\":\"scatter\"}],\"parcoords\":[{\"type\":\"parcoords\",\"line\":{\"colorbar\":{\"outlinewidth\":0,\"ticks\":\"\"}}}],\"scatterpolargl\":[{\"type\":\"scatterpolargl\",\"marker\":{\"colorbar\":{\"outlinewidth\":0,\"ticks\":\"\"}}}],\"bar\":[{\"error_x\":{\"color\":\"#2a3f5f\"},\"error_y\":{\"color\":\"#2a3f5f\"},\"marker\":{\"line\":{\"color\":\"#E5ECF6\",\"width\":0.5},\"pattern\":{\"fillmode\":\"overlay\",\"size\":10,\"solidity\":0.2}},\"type\":\"bar\"}],\"scattergeo\":[{\"type\":\"scattergeo\",\"marker\":{\"colorbar\":{\"outlinewidth\":0,\"ticks\":\"\"}}}],\"scatterpolar\":[{\"type\":\"scatterpolar\",\"marker\":{\"colorbar\":{\"outlinewidth\":0,\"ticks\":\"\"}}}],\"histogram\":[{\"marker\":{\"pattern\":{\"fillmode\":\"overlay\",\"size\":10,\"solidity\":0.2}},\"type\":\"histogram\"}],\"scattergl\":[{\"type\":\"scattergl\",\"marker\":{\"colorbar\":{\"outlinewidth\":0,\"ticks\":\"\"}}}],\"scatter3d\":[{\"type\":\"scatter3d\",\"line\":{\"colorbar\":{\"outlinewidth\":0,\"ticks\":\"\"}},\"marker\":{\"colorbar\":{\"outlinewidth\":0,\"ticks\":\"\"}}}],\"scattermapbox\":[{\"type\":\"scattermapbox\",\"marker\":{\"colorbar\":{\"outlinewidth\":0,\"ticks\":\"\"}}}],\"scatterternary\":[{\"type\":\"scatterternary\",\"marker\":{\"colorbar\":{\"outlinewidth\":0,\"ticks\":\"\"}}}],\"scattercarpet\":[{\"type\":\"scattercarpet\",\"marker\":{\"colorbar\":{\"outlinewidth\":0,\"ticks\":\"\"}}}],\"carpet\":[{\"aaxis\":{\"endlinecolor\":\"#2a3f5f\",\"gridcolor\":\"white\",\"linecolor\":\"white\",\"minorgridcolor\":\"white\",\"startlinecolor\":\"#2a3f5f\"},\"baxis\":{\"endlinecolor\":\"#2a3f5f\",\"gridcolor\":\"white\",\"linecolor\":\"white\",\"minorgridcolor\":\"white\",\"startlinecolor\":\"#2a3f5f\"},\"type\":\"carpet\"}],\"table\":[{\"cells\":{\"fill\":{\"color\":\"#EBF0F8\"},\"line\":{\"color\":\"white\"}},\"header\":{\"fill\":{\"color\":\"#C8D4E3\"},\"line\":{\"color\":\"white\"}},\"type\":\"table\"}],\"barpolar\":[{\"marker\":{\"line\":{\"color\":\"#E5ECF6\",\"width\":0.5},\"pattern\":{\"fillmode\":\"overlay\",\"size\":10,\"solidity\":0.2}},\"type\":\"barpolar\"}],\"pie\":[{\"automargin\":true,\"type\":\"pie\"}]},\"layout\":{\"autotypenumbers\":\"strict\",\"colorway\":[\"#636efa\",\"#EF553B\",\"#00cc96\",\"#ab63fa\",\"#FFA15A\",\"#19d3f3\",\"#FF6692\",\"#B6E880\",\"#FF97FF\",\"#FECB52\"],\"font\":{\"color\":\"#2a3f5f\"},\"hovermode\":\"closest\",\"hoverlabel\":{\"align\":\"left\"},\"paper_bgcolor\":\"white\",\"plot_bgcolor\":\"#E5ECF6\",\"polar\":{\"bgcolor\":\"#E5ECF6\",\"angularaxis\":{\"gridcolor\":\"white\",\"linecolor\":\"white\",\"ticks\":\"\"},\"radialaxis\":{\"gridcolor\":\"white\",\"linecolor\":\"white\",\"ticks\":\"\"}},\"ternary\":{\"bgcolor\":\"#E5ECF6\",\"aaxis\":{\"gridcolor\":\"white\",\"linecolor\":\"white\",\"ticks\":\"\"},\"baxis\":{\"gridcolor\":\"white\",\"linecolor\":\"white\",\"ticks\":\"\"},\"caxis\":{\"gridcolor\":\"white\",\"linecolor\":\"white\",\"ticks\":\"\"}},\"coloraxis\":{\"colorbar\":{\"outlinewidth\":0,\"ticks\":\"\"}},\"colorscale\":{\"sequential\":[[0.0,\"#0d0887\"],[0.1111111111111111,\"#46039f\"],[0.2222222222222222,\"#7201a8\"],[0.3333333333333333,\"#9c179e\"],[0.4444444444444444,\"#bd3786\"],[0.5555555555555556,\"#d8576b\"],[0.6666666666666666,\"#ed7953\"],[0.7777777777777778,\"#fb9f3a\"],[0.8888888888888888,\"#fdca26\"],[1.0,\"#f0f921\"]],\"sequentialminus\":[[0.0,\"#0d0887\"],[0.1111111111111111,\"#46039f\"],[0.2222222222222222,\"#7201a8\"],[0.3333333333333333,\"#9c179e\"],[0.4444444444444444,\"#bd3786\"],[0.5555555555555556,\"#d8576b\"],[0.6666666666666666,\"#ed7953\"],[0.7777777777777778,\"#fb9f3a\"],[0.8888888888888888,\"#fdca26\"],[1.0,\"#f0f921\"]],\"diverging\":[[0,\"#8e0152\"],[0.1,\"#c51b7d\"],[0.2,\"#de77ae\"],[0.3,\"#f1b6da\"],[0.4,\"#fde0ef\"],[0.5,\"#f7f7f7\"],[0.6,\"#e6f5d0\"],[0.7,\"#b8e186\"],[0.8,\"#7fbc41\"],[0.9,\"#4d9221\"],[1,\"#276419\"]]},\"xaxis\":{\"gridcolor\":\"white\",\"linecolor\":\"white\",\"ticks\":\"\",\"title\":{\"standoff\":15},\"zerolinecolor\":\"white\",\"automargin\":true,\"zerolinewidth\":2},\"yaxis\":{\"gridcolor\":\"white\",\"linecolor\":\"white\",\"ticks\":\"\",\"title\":{\"standoff\":15},\"zerolinecolor\":\"white\",\"automargin\":true,\"zerolinewidth\":2},\"scene\":{\"xaxis\":{\"backgroundcolor\":\"#E5ECF6\",\"gridcolor\":\"white\",\"linecolor\":\"white\",\"showbackground\":true,\"ticks\":\"\",\"zerolinecolor\":\"white\",\"gridwidth\":2},\"yaxis\":{\"backgroundcolor\":\"#E5ECF6\",\"gridcolor\":\"white\",\"linecolor\":\"white\",\"showbackground\":true,\"ticks\":\"\",\"zerolinecolor\":\"white\",\"gridwidth\":2},\"zaxis\":{\"backgroundcolor\":\"#E5ECF6\",\"gridcolor\":\"white\",\"linecolor\":\"white\",\"showbackground\":true,\"ticks\":\"\",\"zerolinecolor\":\"white\",\"gridwidth\":2}},\"shapedefaults\":{\"line\":{\"color\":\"#2a3f5f\"}},\"annotationdefaults\":{\"arrowcolor\":\"#2a3f5f\",\"arrowhead\":0,\"arrowwidth\":1},\"geo\":{\"bgcolor\":\"white\",\"landcolor\":\"#E5ECF6\",\"subunitcolor\":\"white\",\"showland\":true,\"showlakes\":true,\"lakecolor\":\"white\"},\"title\":{\"x\":0.05},\"mapbox\":{\"style\":\"light\"}}},\"xaxis\":{\"anchor\":\"y\",\"domain\":[0.0,1.0],\"title\":{\"text\":\"price_usd\"}},\"yaxis\":{\"anchor\":\"x\",\"domain\":[0.0,1.0],\"title\":{\"text\":\"storage\"}},\"legend\":{\"title\":{\"text\":\"phone_brand\"},\"tracegroupgap\":0},\"title\":{\"text\":\"Relationship b\\u002fw Storage and Price\"}},                        {\"responsive\": true}                    ).then(function(){\n",
       "                            \n",
       "var gd = document.getElementById('84b4e46f-c1b2-4dcb-bef4-d62b91b1eb54');\n",
       "var x = new MutationObserver(function (mutations, observer) {{\n",
       "        var display = window.getComputedStyle(gd).display;\n",
       "        if (!display || display === 'none') {{\n",
       "            console.log([gd, 'removed!']);\n",
       "            Plotly.purge(gd);\n",
       "            observer.disconnect();\n",
       "        }}\n",
       "}});\n",
       "\n",
       "// Listen for the removal of the full notebook cells\n",
       "var notebookContainer = gd.closest('#notebook-container');\n",
       "if (notebookContainer) {{\n",
       "    x.observe(notebookContainer, {childList: true});\n",
       "}}\n",
       "\n",
       "// Listen for the clearing of the current output cell\n",
       "var outputEl = gd.closest('.output');\n",
       "if (outputEl) {{\n",
       "    x.observe(outputEl, {childList: true});\n",
       "}}\n",
       "\n",
       "                        })                };                });            </script>        </div>"
      ]
     },
     "metadata": {},
     "output_type": "display_data"
    }
   ],
   "source": [
    "px.scatter(df, x = 'price_usd', y = 'storage', title = 'Relationship b/w Storage and Price', color = 'phone_brand')\n"
   ]
  },
  {
   "cell_type": "markdown",
   "id": "eb68852a-23d8-43fd-81a5-bb304fe24492",
   "metadata": {},
   "source": [
    "# 3 : Write a python function that returns a list of phone models that have a display size greater than 6 inches and a battery capacity greater than 4000mah.\n",
    "# # The function should also calculate the average weight of these phones."
   ]
  },
  {
   "cell_type": "code",
   "execution_count": 36,
   "id": "2dfa5d04-b5bb-4553-bfef-369182023e2a",
   "metadata": {},
   "outputs": [
    {
     "data": {
      "text/plain": [
       "phone_model\n",
       "8                             191.0\n",
       "Asus ROG Phone 5              238.0\n",
       "Asus ROG Phone 6              239.0\n",
       "Asus ROG Phone 7              239.0\n",
       "Asus ROG Phone 8              225.0\n",
       "                              ...  \n",
       "ZTE nubia Red Magic 9S Pro    229.0\n",
       "ZTE nubia Z50S Pro            228.0\n",
       "ZTE nubia Z60 Ultra           246.0\n",
       "vivo V40                      190.0\n",
       "vivo X100 Pro                 221.0\n",
       "Name: weight, Length: 66, dtype: float64"
      ]
     },
     "execution_count": 36,
     "metadata": {},
     "output_type": "execute_result"
    }
   ],
   "source": [
    "  fil = df[(df['display_size'] > 6) & (df['battery'] > 5000)]\n",
    "fil.groupby(['phone_model'])['weight'].mean()\n"
   ]
  },
  {
   "cell_type": "markdown",
   "id": "0a753e71-1dea-4aa6-b747-7f4f7275cd1a",
   "metadata": {},
   "source": [
    "# 4: Create a python script that generates a bar chart showing the distribution of phone operating system (os) in the table.The chart should include the count of phones for each os type."
   ]
  },
  {
   "cell_type": "code",
   "execution_count": 46,
   "id": "abc71018-6c3e-4b08-a5d1-b249e533b8af",
   "metadata": {},
   "outputs": [
    {
     "data": {
      "application/vnd.plotly.v1+json": {
       "config": {
        "plotlyServerURL": "https://plot.ly"
       },
       "data": [
        {
         "alignmentgroup": "True",
         "hovertemplate": "x=%{x}<br>os=%{y}<extra></extra>",
         "legendgroup": "",
         "marker": {
          "color": "#636efa",
          "pattern": {
           "shape": ""
          }
         },
         "name": "",
         "offsetgroup": "",
         "orientation": "h",
         "showlegend": false,
         "textposition": "auto",
         "type": "bar",
         "x": [
          47,
          40,
          39,
          39,
          36,
          32,
          32,
          31,
          30,
          25
         ],
         "xaxis": "x",
         "y": [
          "Android 12, MIUI 13",
          "Android 13, up to 3 major Android upgrades, HyperOS",
          "Android 14, up to 7 major Android upgrades",
          "Android 11, MIUI 13",
          "iOS 17, upgradable to iOS 18",
          "Android 13, up to 4 major Android upgrades, One UI 6.1.1",
          "Android 11, upgradable to Android 13, MIUI 14",
          "iOS 16, upgradable to iOS 18",
          "iOS 15, upgradable to iOS 18",
          "Android 11, upgradable to Android 13"
         ],
         "yaxis": "y"
        }
       ],
       "layout": {
        "autosize": true,
        "barmode": "relative",
        "legend": {
         "tracegroupgap": 0
        },
        "margin": {
         "t": 60
        },
        "template": {
         "data": {
          "bar": [
           {
            "error_x": {
             "color": "#2a3f5f"
            },
            "error_y": {
             "color": "#2a3f5f"
            },
            "marker": {
             "line": {
              "color": "#E5ECF6",
              "width": 0.5
             },
             "pattern": {
              "fillmode": "overlay",
              "size": 10,
              "solidity": 0.2
             }
            },
            "type": "bar"
           }
          ],
          "barpolar": [
           {
            "marker": {
             "line": {
              "color": "#E5ECF6",
              "width": 0.5
             },
             "pattern": {
              "fillmode": "overlay",
              "size": 10,
              "solidity": 0.2
             }
            },
            "type": "barpolar"
           }
          ],
          "carpet": [
           {
            "aaxis": {
             "endlinecolor": "#2a3f5f",
             "gridcolor": "white",
             "linecolor": "white",
             "minorgridcolor": "white",
             "startlinecolor": "#2a3f5f"
            },
            "baxis": {
             "endlinecolor": "#2a3f5f",
             "gridcolor": "white",
             "linecolor": "white",
             "minorgridcolor": "white",
             "startlinecolor": "#2a3f5f"
            },
            "type": "carpet"
           }
          ],
          "choropleth": [
           {
            "colorbar": {
             "outlinewidth": 0,
             "ticks": ""
            },
            "type": "choropleth"
           }
          ],
          "contour": [
           {
            "colorbar": {
             "outlinewidth": 0,
             "ticks": ""
            },
            "colorscale": [
             [
              0,
              "#0d0887"
             ],
             [
              0.1111111111111111,
              "#46039f"
             ],
             [
              0.2222222222222222,
              "#7201a8"
             ],
             [
              0.3333333333333333,
              "#9c179e"
             ],
             [
              0.4444444444444444,
              "#bd3786"
             ],
             [
              0.5555555555555556,
              "#d8576b"
             ],
             [
              0.6666666666666666,
              "#ed7953"
             ],
             [
              0.7777777777777778,
              "#fb9f3a"
             ],
             [
              0.8888888888888888,
              "#fdca26"
             ],
             [
              1,
              "#f0f921"
             ]
            ],
            "type": "contour"
           }
          ],
          "contourcarpet": [
           {
            "colorbar": {
             "outlinewidth": 0,
             "ticks": ""
            },
            "type": "contourcarpet"
           }
          ],
          "heatmap": [
           {
            "colorbar": {
             "outlinewidth": 0,
             "ticks": ""
            },
            "colorscale": [
             [
              0,
              "#0d0887"
             ],
             [
              0.1111111111111111,
              "#46039f"
             ],
             [
              0.2222222222222222,
              "#7201a8"
             ],
             [
              0.3333333333333333,
              "#9c179e"
             ],
             [
              0.4444444444444444,
              "#bd3786"
             ],
             [
              0.5555555555555556,
              "#d8576b"
             ],
             [
              0.6666666666666666,
              "#ed7953"
             ],
             [
              0.7777777777777778,
              "#fb9f3a"
             ],
             [
              0.8888888888888888,
              "#fdca26"
             ],
             [
              1,
              "#f0f921"
             ]
            ],
            "type": "heatmap"
           }
          ],
          "heatmapgl": [
           {
            "colorbar": {
             "outlinewidth": 0,
             "ticks": ""
            },
            "colorscale": [
             [
              0,
              "#0d0887"
             ],
             [
              0.1111111111111111,
              "#46039f"
             ],
             [
              0.2222222222222222,
              "#7201a8"
             ],
             [
              0.3333333333333333,
              "#9c179e"
             ],
             [
              0.4444444444444444,
              "#bd3786"
             ],
             [
              0.5555555555555556,
              "#d8576b"
             ],
             [
              0.6666666666666666,
              "#ed7953"
             ],
             [
              0.7777777777777778,
              "#fb9f3a"
             ],
             [
              0.8888888888888888,
              "#fdca26"
             ],
             [
              1,
              "#f0f921"
             ]
            ],
            "type": "heatmapgl"
           }
          ],
          "histogram": [
           {
            "marker": {
             "pattern": {
              "fillmode": "overlay",
              "size": 10,
              "solidity": 0.2
             }
            },
            "type": "histogram"
           }
          ],
          "histogram2d": [
           {
            "colorbar": {
             "outlinewidth": 0,
             "ticks": ""
            },
            "colorscale": [
             [
              0,
              "#0d0887"
             ],
             [
              0.1111111111111111,
              "#46039f"
             ],
             [
              0.2222222222222222,
              "#7201a8"
             ],
             [
              0.3333333333333333,
              "#9c179e"
             ],
             [
              0.4444444444444444,
              "#bd3786"
             ],
             [
              0.5555555555555556,
              "#d8576b"
             ],
             [
              0.6666666666666666,
              "#ed7953"
             ],
             [
              0.7777777777777778,
              "#fb9f3a"
             ],
             [
              0.8888888888888888,
              "#fdca26"
             ],
             [
              1,
              "#f0f921"
             ]
            ],
            "type": "histogram2d"
           }
          ],
          "histogram2dcontour": [
           {
            "colorbar": {
             "outlinewidth": 0,
             "ticks": ""
            },
            "colorscale": [
             [
              0,
              "#0d0887"
             ],
             [
              0.1111111111111111,
              "#46039f"
             ],
             [
              0.2222222222222222,
              "#7201a8"
             ],
             [
              0.3333333333333333,
              "#9c179e"
             ],
             [
              0.4444444444444444,
              "#bd3786"
             ],
             [
              0.5555555555555556,
              "#d8576b"
             ],
             [
              0.6666666666666666,
              "#ed7953"
             ],
             [
              0.7777777777777778,
              "#fb9f3a"
             ],
             [
              0.8888888888888888,
              "#fdca26"
             ],
             [
              1,
              "#f0f921"
             ]
            ],
            "type": "histogram2dcontour"
           }
          ],
          "mesh3d": [
           {
            "colorbar": {
             "outlinewidth": 0,
             "ticks": ""
            },
            "type": "mesh3d"
           }
          ],
          "parcoords": [
           {
            "line": {
             "colorbar": {
              "outlinewidth": 0,
              "ticks": ""
             }
            },
            "type": "parcoords"
           }
          ],
          "pie": [
           {
            "automargin": true,
            "type": "pie"
           }
          ],
          "scatter": [
           {
            "fillpattern": {
             "fillmode": "overlay",
             "size": 10,
             "solidity": 0.2
            },
            "type": "scatter"
           }
          ],
          "scatter3d": [
           {
            "line": {
             "colorbar": {
              "outlinewidth": 0,
              "ticks": ""
             }
            },
            "marker": {
             "colorbar": {
              "outlinewidth": 0,
              "ticks": ""
             }
            },
            "type": "scatter3d"
           }
          ],
          "scattercarpet": [
           {
            "marker": {
             "colorbar": {
              "outlinewidth": 0,
              "ticks": ""
             }
            },
            "type": "scattercarpet"
           }
          ],
          "scattergeo": [
           {
            "marker": {
             "colorbar": {
              "outlinewidth": 0,
              "ticks": ""
             }
            },
            "type": "scattergeo"
           }
          ],
          "scattergl": [
           {
            "marker": {
             "colorbar": {
              "outlinewidth": 0,
              "ticks": ""
             }
            },
            "type": "scattergl"
           }
          ],
          "scattermapbox": [
           {
            "marker": {
             "colorbar": {
              "outlinewidth": 0,
              "ticks": ""
             }
            },
            "type": "scattermapbox"
           }
          ],
          "scatterpolar": [
           {
            "marker": {
             "colorbar": {
              "outlinewidth": 0,
              "ticks": ""
             }
            },
            "type": "scatterpolar"
           }
          ],
          "scatterpolargl": [
           {
            "marker": {
             "colorbar": {
              "outlinewidth": 0,
              "ticks": ""
             }
            },
            "type": "scatterpolargl"
           }
          ],
          "scatterternary": [
           {
            "marker": {
             "colorbar": {
              "outlinewidth": 0,
              "ticks": ""
             }
            },
            "type": "scatterternary"
           }
          ],
          "surface": [
           {
            "colorbar": {
             "outlinewidth": 0,
             "ticks": ""
            },
            "colorscale": [
             [
              0,
              "#0d0887"
             ],
             [
              0.1111111111111111,
              "#46039f"
             ],
             [
              0.2222222222222222,
              "#7201a8"
             ],
             [
              0.3333333333333333,
              "#9c179e"
             ],
             [
              0.4444444444444444,
              "#bd3786"
             ],
             [
              0.5555555555555556,
              "#d8576b"
             ],
             [
              0.6666666666666666,
              "#ed7953"
             ],
             [
              0.7777777777777778,
              "#fb9f3a"
             ],
             [
              0.8888888888888888,
              "#fdca26"
             ],
             [
              1,
              "#f0f921"
             ]
            ],
            "type": "surface"
           }
          ],
          "table": [
           {
            "cells": {
             "fill": {
              "color": "#EBF0F8"
             },
             "line": {
              "color": "white"
             }
            },
            "header": {
             "fill": {
              "color": "#C8D4E3"
             },
             "line": {
              "color": "white"
             }
            },
            "type": "table"
           }
          ]
         },
         "layout": {
          "annotationdefaults": {
           "arrowcolor": "#2a3f5f",
           "arrowhead": 0,
           "arrowwidth": 1
          },
          "autotypenumbers": "strict",
          "coloraxis": {
           "colorbar": {
            "outlinewidth": 0,
            "ticks": ""
           }
          },
          "colorscale": {
           "diverging": [
            [
             0,
             "#8e0152"
            ],
            [
             0.1,
             "#c51b7d"
            ],
            [
             0.2,
             "#de77ae"
            ],
            [
             0.3,
             "#f1b6da"
            ],
            [
             0.4,
             "#fde0ef"
            ],
            [
             0.5,
             "#f7f7f7"
            ],
            [
             0.6,
             "#e6f5d0"
            ],
            [
             0.7,
             "#b8e186"
            ],
            [
             0.8,
             "#7fbc41"
            ],
            [
             0.9,
             "#4d9221"
            ],
            [
             1,
             "#276419"
            ]
           ],
           "sequential": [
            [
             0,
             "#0d0887"
            ],
            [
             0.1111111111111111,
             "#46039f"
            ],
            [
             0.2222222222222222,
             "#7201a8"
            ],
            [
             0.3333333333333333,
             "#9c179e"
            ],
            [
             0.4444444444444444,
             "#bd3786"
            ],
            [
             0.5555555555555556,
             "#d8576b"
            ],
            [
             0.6666666666666666,
             "#ed7953"
            ],
            [
             0.7777777777777778,
             "#fb9f3a"
            ],
            [
             0.8888888888888888,
             "#fdca26"
            ],
            [
             1,
             "#f0f921"
            ]
           ],
           "sequentialminus": [
            [
             0,
             "#0d0887"
            ],
            [
             0.1111111111111111,
             "#46039f"
            ],
            [
             0.2222222222222222,
             "#7201a8"
            ],
            [
             0.3333333333333333,
             "#9c179e"
            ],
            [
             0.4444444444444444,
             "#bd3786"
            ],
            [
             0.5555555555555556,
             "#d8576b"
            ],
            [
             0.6666666666666666,
             "#ed7953"
            ],
            [
             0.7777777777777778,
             "#fb9f3a"
            ],
            [
             0.8888888888888888,
             "#fdca26"
            ],
            [
             1,
             "#f0f921"
            ]
           ]
          },
          "colorway": [
           "#636efa",
           "#EF553B",
           "#00cc96",
           "#ab63fa",
           "#FFA15A",
           "#19d3f3",
           "#FF6692",
           "#B6E880",
           "#FF97FF",
           "#FECB52"
          ],
          "font": {
           "color": "#2a3f5f"
          },
          "geo": {
           "bgcolor": "white",
           "lakecolor": "white",
           "landcolor": "#E5ECF6",
           "showlakes": true,
           "showland": true,
           "subunitcolor": "white"
          },
          "hoverlabel": {
           "align": "left"
          },
          "hovermode": "closest",
          "mapbox": {
           "style": "light"
          },
          "paper_bgcolor": "white",
          "plot_bgcolor": "#E5ECF6",
          "polar": {
           "angularaxis": {
            "gridcolor": "white",
            "linecolor": "white",
            "ticks": ""
           },
           "bgcolor": "#E5ECF6",
           "radialaxis": {
            "gridcolor": "white",
            "linecolor": "white",
            "ticks": ""
           }
          },
          "scene": {
           "xaxis": {
            "backgroundcolor": "#E5ECF6",
            "gridcolor": "white",
            "gridwidth": 2,
            "linecolor": "white",
            "showbackground": true,
            "ticks": "",
            "zerolinecolor": "white"
           },
           "yaxis": {
            "backgroundcolor": "#E5ECF6",
            "gridcolor": "white",
            "gridwidth": 2,
            "linecolor": "white",
            "showbackground": true,
            "ticks": "",
            "zerolinecolor": "white"
           },
           "zaxis": {
            "backgroundcolor": "#E5ECF6",
            "gridcolor": "white",
            "gridwidth": 2,
            "linecolor": "white",
            "showbackground": true,
            "ticks": "",
            "zerolinecolor": "white"
           }
          },
          "shapedefaults": {
           "line": {
            "color": "#2a3f5f"
           }
          },
          "ternary": {
           "aaxis": {
            "gridcolor": "white",
            "linecolor": "white",
            "ticks": ""
           },
           "baxis": {
            "gridcolor": "white",
            "linecolor": "white",
            "ticks": ""
           },
           "bgcolor": "#E5ECF6",
           "caxis": {
            "gridcolor": "white",
            "linecolor": "white",
            "ticks": ""
           }
          },
          "title": {
           "x": 0.05
          },
          "xaxis": {
           "automargin": true,
           "gridcolor": "white",
           "linecolor": "white",
           "ticks": "",
           "title": {
            "standoff": 15
           },
           "zerolinecolor": "white",
           "zerolinewidth": 2
          },
          "yaxis": {
           "automargin": true,
           "gridcolor": "white",
           "linecolor": "white",
           "ticks": "",
           "title": {
            "standoff": 15
           },
           "zerolinecolor": "white",
           "zerolinewidth": 2
          }
         }
        },
        "xaxis": {
         "anchor": "y",
         "autorange": true,
         "domain": [
          0,
          1
         ],
         "range": [
          0,
          49.473684210526315
         ],
         "title": {
          "text": "x"
         },
         "type": "linear"
        },
        "yaxis": {
         "anchor": "x",
         "autorange": true,
         "domain": [
          0,
          1
         ],
         "range": [
          -0.5,
          9.5
         ],
         "title": {
          "text": "os"
         },
         "type": "category"
        }
       }
      },
      "image/png": "[encoded data removed]",
      "text/html": [
       "<div>                            <div id=\"ddaa9d34-c191-4446-b539-a7c0ae2cd329\" class=\"plotly-graph-div\" style=\"height:525px; width:100%;\"></div>            <script type=\"text/javascript\">                require([\"plotly\"], function(Plotly) {                    window.PLOTLYENV=window.PLOTLYENV || {};                                    if (document.getElementById(\"ddaa9d34-c191-4446-b539-a7c0ae2cd329\")) {                    Plotly.newPlot(                        \"ddaa9d34-c191-4446-b539-a7c0ae2cd329\",                        [{\"alignmentgroup\":\"True\",\"hovertemplate\":\"x=%{x}\\u003cbr\\u003eos=%{y}\\u003cextra\\u003e\\u003c\\u002fextra\\u003e\",\"legendgroup\":\"\",\"marker\":{\"color\":\"#636efa\",\"pattern\":{\"shape\":\"\"}},\"name\":\"\",\"offsetgroup\":\"\",\"orientation\":\"h\",\"showlegend\":false,\"textposition\":\"auto\",\"x\":[47,40,39,39,36,32,32,31,30,25],\"xaxis\":\"x\",\"y\":[\"Android 12, MIUI 13\",\"Android 13, up to 3 major Android upgrades, HyperOS\",\"Android 14, up to 7 major Android upgrades\",\"Android 11, MIUI 13\",\"iOS 17, upgradable to iOS 18\",\"Android 13, up to 4 major Android upgrades, One UI 6.1.1\",\"Android 11, upgradable to Android 13, MIUI 14\",\"iOS 16, upgradable to iOS 18\",\"iOS 15, upgradable to iOS 18\",\"Android 11, upgradable to Android 13\"],\"yaxis\":\"y\",\"type\":\"bar\"}],                        {\"template\":{\"data\":{\"histogram2dcontour\":[{\"type\":\"histogram2dcontour\",\"colorbar\":{\"outlinewidth\":0,\"ticks\":\"\"},\"colorscale\":[[0.0,\"#0d0887\"],[0.1111111111111111,\"#46039f\"],[0.2222222222222222,\"#7201a8\"],[0.3333333333333333,\"#9c179e\"],[0.4444444444444444,\"#bd3786\"],[0.5555555555555556,\"#d8576b\"],[0.6666666666666666,\"#ed7953\"],[0.7777777777777778,\"#fb9f3a\"],[0.8888888888888888,\"#fdca26\"],[1.0,\"#f0f921\"]]}],\"choropleth\":[{\"type\":\"choropleth\",\"colorbar\":{\"outlinewidth\":0,\"ticks\":\"\"}}],\"histogram2d\":[{\"type\":\"histogram2d\",\"colorbar\":{\"outlinewidth\":0,\"ticks\":\"\"},\"colorscale\":[[0.0,\"#0d0887\"],[0.1111111111111111,\"#46039f\"],[0.2222222222222222,\"#7201a8\"],[0.3333333333333333,\"#9c179e\"],[0.4444444444444444,\"#bd3786\"],[0.5555555555555556,\"#d8576b\"],[0.6666666666666666,\"#ed7953\"],[0.7777777777777778,\"#fb9f3a\"],[0.8888888888888888,\"#fdca26\"],[1.0,\"#f0f921\"]]}],\"heatmap\":[{\"type\":\"heatmap\",\"colorbar\":{\"outlinewidth\":0,\"ticks\":\"\"},\"colorscale\":[[0.0,\"#0d0887\"],[0.1111111111111111,\"#46039f\"],[0.2222222222222222,\"#7201a8\"],[0.3333333333333333,\"#9c179e\"],[0.4444444444444444,\"#bd3786\"],[0.5555555555555556,\"#d8576b\"],[0.6666666666666666,\"#ed7953\"],[0.7777777777777778,\"#fb9f3a\"],[0.8888888888888888,\"#fdca26\"],[1.0,\"#f0f921\"]]}],\"heatmapgl\":[{\"type\":\"heatmapgl\",\"colorbar\":{\"outlinewidth\":0,\"ticks\":\"\"},\"colorscale\":[[0.0,\"#0d0887\"],[0.1111111111111111,\"#46039f\"],[0.2222222222222222,\"#7201a8\"],[0.3333333333333333,\"#9c179e\"],[0.4444444444444444,\"#bd3786\"],[0.5555555555555556,\"#d8576b\"],[0.6666666666666666,\"#ed7953\"],[0.7777777777777778,\"#fb9f3a\"],[0.8888888888888888,\"#fdca26\"],[1.0,\"#f0f921\"]]}],\"contourcarpet\":[{\"type\":\"contourcarpet\",\"colorbar\":{\"outlinewidth\":0,\"ticks\":\"\"}}],\"contour\":[{\"type\":\"contour\",\"colorbar\":{\"outlinewidth\":0,\"ticks\":\"\"},\"colorscale\":[[0.0,\"#0d0887\"],[0.1111111111111111,\"#46039f\"],[0.2222222222222222,\"#7201a8\"],[0.3333333333333333,\"#9c179e\"],[0.4444444444444444,\"#bd3786\"],[0.5555555555555556,\"#d8576b\"],[0.6666666666666666,\"#ed7953\"],[0.7777777777777778,\"#fb9f3a\"],[0.8888888888888888,\"#fdca26\"],[1.0,\"#f0f921\"]]}],\"surface\":[{\"type\":\"surface\",\"colorbar\":{\"outlinewidth\":0,\"ticks\":\"\"},\"colorscale\":[[0.0,\"#0d0887\"],[0.1111111111111111,\"#46039f\"],[0.2222222222222222,\"#7201a8\"],[0.3333333333333333,\"#9c179e\"],[0.4444444444444444,\"#bd3786\"],[0.5555555555555556,\"#d8576b\"],[0.6666666666666666,\"#ed7953\"],[0.7777777777777778,\"#fb9f3a\"],[0.8888888888888888,\"#fdca26\"],[1.0,\"#f0f921\"]]}],\"mesh3d\":[{\"type\":\"mesh3d\",\"colorbar\":{\"outlinewidth\":0,\"ticks\":\"\"}}],\"scatter\":[{\"fillpattern\":{\"fillmode\":\"overlay\",\"size\":10,\"solidity\":0.2},\"type\":\"scatter\"}],\"parcoords\":[{\"type\":\"parcoords\",\"line\":{\"colorbar\":{\"outlinewidth\":0,\"ticks\":\"\"}}}],\"scatterpolargl\":[{\"type\":\"scatterpolargl\",\"marker\":{\"colorbar\":{\"outlinewidth\":0,\"ticks\":\"\"}}}],\"bar\":[{\"error_x\":{\"color\":\"#2a3f5f\"},\"error_y\":{\"color\":\"#2a3f5f\"},\"marker\":{\"line\":{\"color\":\"#E5ECF6\",\"width\":0.5},\"pattern\":{\"fillmode\":\"overlay\",\"size\":10,\"solidity\":0.2}},\"type\":\"bar\"}],\"scattergeo\":[{\"type\":\"scattergeo\",\"marker\":{\"colorbar\":{\"outlinewidth\":0,\"ticks\":\"\"}}}],\"scatterpolar\":[{\"type\":\"scatterpolar\",\"marker\":{\"colorbar\":{\"outlinewidth\":0,\"ticks\":\"\"}}}],\"histogram\":[{\"marker\":{\"pattern\":{\"fillmode\":\"overlay\",\"size\":10,\"solidity\":0.2}},\"type\":\"histogram\"}],\"scattergl\":[{\"type\":\"scattergl\",\"marker\":{\"colorbar\":{\"outlinewidth\":0,\"ticks\":\"\"}}}],\"scatter3d\":[{\"type\":\"scatter3d\",\"line\":{\"colorbar\":{\"outlinewidth\":0,\"ticks\":\"\"}},\"marker\":{\"colorbar\":{\"outlinewidth\":0,\"ticks\":\"\"}}}],\"scattermapbox\":[{\"type\":\"scattermapbox\",\"marker\":{\"colorbar\":{\"outlinewidth\":0,\"ticks\":\"\"}}}],\"scatterternary\":[{\"type\":\"scatterternary\",\"marker\":{\"colorbar\":{\"outlinewidth\":0,\"ticks\":\"\"}}}],\"scattercarpet\":[{\"type\":\"scattercarpet\",\"marker\":{\"colorbar\":{\"outlinewidth\":0,\"ticks\":\"\"}}}],\"carpet\":[{\"aaxis\":{\"endlinecolor\":\"#2a3f5f\",\"gridcolor\":\"white\",\"linecolor\":\"white\",\"minorgridcolor\":\"white\",\"startlinecolor\":\"#2a3f5f\"},\"baxis\":{\"endlinecolor\":\"#2a3f5f\",\"gridcolor\":\"white\",\"linecolor\":\"white\",\"minorgridcolor\":\"white\",\"startlinecolor\":\"#2a3f5f\"},\"type\":\"carpet\"}],\"table\":[{\"cells\":{\"fill\":{\"color\":\"#EBF0F8\"},\"line\":{\"color\":\"white\"}},\"header\":{\"fill\":{\"color\":\"#C8D4E3\"},\"line\":{\"color\":\"white\"}},\"type\":\"table\"}],\"barpolar\":[{\"marker\":{\"line\":{\"color\":\"#E5ECF6\",\"width\":0.5},\"pattern\":{\"fillmode\":\"overlay\",\"size\":10,\"solidity\":0.2}},\"type\":\"barpolar\"}],\"pie\":[{\"automargin\":true,\"type\":\"pie\"}]},\"layout\":{\"autotypenumbers\":\"strict\",\"colorway\":[\"#636efa\",\"#EF553B\",\"#00cc96\",\"#ab63fa\",\"#FFA15A\",\"#19d3f3\",\"#FF6692\",\"#B6E880\",\"#FF97FF\",\"#FECB52\"],\"font\":{\"color\":\"#2a3f5f\"},\"hovermode\":\"closest\",\"hoverlabel\":{\"align\":\"left\"},\"paper_bgcolor\":\"white\",\"plot_bgcolor\":\"#E5ECF6\",\"polar\":{\"bgcolor\":\"#E5ECF6\",\"angularaxis\":{\"gridcolor\":\"white\",\"linecolor\":\"white\",\"ticks\":\"\"},\"radialaxis\":{\"gridcolor\":\"white\",\"linecolor\":\"white\",\"ticks\":\"\"}},\"ternary\":{\"bgcolor\":\"#E5ECF6\",\"aaxis\":{\"gridcolor\":\"white\",\"linecolor\":\"white\",\"ticks\":\"\"},\"baxis\":{\"gridcolor\":\"white\",\"linecolor\":\"white\",\"ticks\":\"\"},\"caxis\":{\"gridcolor\":\"white\",\"linecolor\":\"white\",\"ticks\":\"\"}},\"coloraxis\":{\"colorbar\":{\"outlinewidth\":0,\"ticks\":\"\"}},\"colorscale\":{\"sequential\":[[0.0,\"#0d0887\"],[0.1111111111111111,\"#46039f\"],[0.2222222222222222,\"#7201a8\"],[0.3333333333333333,\"#9c179e\"],[0.4444444444444444,\"#bd3786\"],[0.5555555555555556,\"#d8576b\"],[0.6666666666666666,\"#ed7953\"],[0.7777777777777778,\"#fb9f3a\"],[0.8888888888888888,\"#fdca26\"],[1.0,\"#f0f921\"]],\"sequentialminus\":[[0.0,\"#0d0887\"],[0.1111111111111111,\"#46039f\"],[0.2222222222222222,\"#7201a8\"],[0.3333333333333333,\"#9c179e\"],[0.4444444444444444,\"#bd3786\"],[0.5555555555555556,\"#d8576b\"],[0.6666666666666666,\"#ed7953\"],[0.7777777777777778,\"#fb9f3a\"],[0.8888888888888888,\"#fdca26\"],[1.0,\"#f0f921\"]],\"diverging\":[[0,\"#8e0152\"],[0.1,\"#c51b7d\"],[0.2,\"#de77ae\"],[0.3,\"#f1b6da\"],[0.4,\"#fde0ef\"],[0.5,\"#f7f7f7\"],[0.6,\"#e6f5d0\"],[0.7,\"#b8e186\"],[0.8,\"#7fbc41\"],[0.9,\"#4d9221\"],[1,\"#276419\"]]},\"xaxis\":{\"gridcolor\":\"white\",\"linecolor\":\"white\",\"ticks\":\"\",\"title\":{\"standoff\":15},\"zerolinecolor\":\"white\",\"automargin\":true,\"zerolinewidth\":2},\"yaxis\":{\"gridcolor\":\"white\",\"linecolor\":\"white\",\"ticks\":\"\",\"title\":{\"standoff\":15},\"zerolinecolor\":\"white\",\"automargin\":true,\"zerolinewidth\":2},\"scene\":{\"xaxis\":{\"backgroundcolor\":\"#E5ECF6\",\"gridcolor\":\"white\",\"linecolor\":\"white\",\"showbackground\":true,\"ticks\":\"\",\"zerolinecolor\":\"white\",\"gridwidth\":2},\"yaxis\":{\"backgroundcolor\":\"#E5ECF6\",\"gridcolor\":\"white\",\"linecolor\":\"white\",\"showbackground\":true,\"ticks\":\"\",\"zerolinecolor\":\"white\",\"gridwidth\":2},\"zaxis\":{\"backgroundcolor\":\"#E5ECF6\",\"gridcolor\":\"white\",\"linecolor\":\"white\",\"showbackground\":true,\"ticks\":\"\",\"zerolinecolor\":\"white\",\"gridwidth\":2}},\"shapedefaults\":{\"line\":{\"color\":\"#2a3f5f\"}},\"annotationdefaults\":{\"arrowcolor\":\"#2a3f5f\",\"arrowhead\":0,\"arrowwidth\":1},\"geo\":{\"bgcolor\":\"white\",\"landcolor\":\"#E5ECF6\",\"subunitcolor\":\"white\",\"showland\":true,\"showlakes\":true,\"lakecolor\":\"white\"},\"title\":{\"x\":0.05},\"mapbox\":{\"style\":\"light\"}}},\"xaxis\":{\"anchor\":\"y\",\"domain\":[0.0,1.0],\"title\":{\"text\":\"x\"}},\"yaxis\":{\"anchor\":\"x\",\"domain\":[0.0,1.0],\"title\":{\"text\":\"os\"}},\"legend\":{\"tracegroupgap\":0},\"margin\":{\"t\":60},\"barmode\":\"relative\"},                        {\"responsive\": true}                    ).then(function(){\n",
       "                            \n",
       "var gd = document.getElementById('ddaa9d34-c191-4446-b539-a7c0ae2cd329');\n",
       "var x = new MutationObserver(function (mutations, observer) {{\n",
       "        var display = window.getComputedStyle(gd).display;\n",
       "        if (!display || display === 'none') {{\n",
       "            console.log([gd, 'removed!']);\n",
       "            Plotly.purge(gd);\n",
       "            observer.disconnect();\n",
       "        }}\n",
       "}});\n",
       "\n",
       "// Listen for the removal of the full notebook cells\n",
       "var notebookContainer = gd.closest('#notebook-container');\n",
       "if (notebookContainer) {{\n",
       "    x.observe(notebookContainer, {childList: true});\n",
       "}}\n",
       "\n",
       "// Listen for the clearing of the current output cell\n",
       "var outputEl = gd.closest('.output');\n",
       "if (outputEl) {{\n",
       "    x.observe(outputEl, {childList: true});\n",
       "}}\n",
       "\n",
       "                        })                };                });            </script>        </div>"
      ]
     },
     "metadata": {},
     "output_type": "display_data"
    }
   ],
   "source": [
    " ax = df['os'].value_counts()[:10]\n",
    "px.bar(ax  ,  y = ax.index , x = ax.values, orientation  = 'h')"
   ]
  },
  {
   "cell_type": "markdown",
   "id": "f7402290-5331-46cd-b59e-9bdb8add4b21",
   "metadata": {},
   "source": [
    "                                    # ****Project Completed****"
   ]
  },
  {
   "cell_type": "code",
   "execution_count": null,
   "id": "0c7414f6-c127-463a-b012-58c1be21dba6",
   "metadata": {},
   "outputs": [],
   "source": []
  }
 ],
 "metadata": {
  "kernelspec": {
   "display_name": "Python 3 (ipykernel)",
   "language": "python",
   "name": "python3"
  },
  "language_info": {
   "codemirror_mode": {
    "name": "ipython",
    "version": 3
   },
   "file_extension": ".py",
   "mimetype": "text/x-python",
   "name": "python",
   "nbconvert_exporter": "python",
   "pygments_lexer": "ipython3",
   "version": "3.13.0"
  }
 },
 "nbformat": 4,
 "nbformat_minor": 5
}
